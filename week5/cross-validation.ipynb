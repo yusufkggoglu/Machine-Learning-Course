{
 "cells": [
  {
   "cell_type": "code",
   "execution_count": 1,
   "id": "32a82a64",
   "metadata": {
    "_cell_guid": "b1076dfc-b9ad-4769-8c92-a6c4dae69d19",
    "_uuid": "8f2839f25d086af736a60e9eeb907d3b93b6e0e5",
    "execution": {
     "iopub.execute_input": "2023-03-31T18:39:46.115371Z",
     "iopub.status.busy": "2023-03-31T18:39:46.114804Z",
     "iopub.status.idle": "2023-03-31T18:39:47.635752Z",
     "shell.execute_reply": "2023-03-31T18:39:47.634100Z"
    },
    "papermill": {
     "duration": 1.530528,
     "end_time": "2023-03-31T18:39:47.639174",
     "exception": false,
     "start_time": "2023-03-31T18:39:46.108646",
     "status": "completed"
    },
    "tags": []
   },
   "outputs": [],
   "source": [
    "from sklearn.datasets import load_iris\n",
    "from sklearn.linear_model import LinearRegression\n",
    "from sklearn.model_selection import KFold\n",
    "from sklearn.metrics import mean_squared_error\n",
    "import numpy as np"
   ]
  },
  {
   "cell_type": "code",
   "execution_count": 2,
   "id": "a3c0f456",
   "metadata": {
    "execution": {
     "iopub.execute_input": "2023-03-31T18:39:47.648221Z",
     "iopub.status.busy": "2023-03-31T18:39:47.646884Z",
     "iopub.status.idle": "2023-03-31T18:39:47.659011Z",
     "shell.execute_reply": "2023-03-31T18:39:47.657593Z"
    },
    "papermill": {
     "duration": 0.020029,
     "end_time": "2023-03-31T18:39:47.662517",
     "exception": false,
     "start_time": "2023-03-31T18:39:47.642488",
     "status": "completed"
    },
    "tags": []
   },
   "outputs": [],
   "source": [
    "iris = load_iris()"
   ]
  },
  {
   "cell_type": "code",
   "execution_count": 3,
   "id": "1740e67c",
   "metadata": {
    "execution": {
     "iopub.execute_input": "2023-03-31T18:39:47.671676Z",
     "iopub.status.busy": "2023-03-31T18:39:47.670517Z",
     "iopub.status.idle": "2023-03-31T18:39:47.676587Z",
     "shell.execute_reply": "2023-03-31T18:39:47.675208Z"
    },
    "papermill": {
     "duration": 0.013419,
     "end_time": "2023-03-31T18:39:47.679252",
     "exception": false,
     "start_time": "2023-03-31T18:39:47.665833",
     "status": "completed"
    },
    "tags": []
   },
   "outputs": [],
   "source": [
    "X, y = iris.data, iris.target"
   ]
  },
  {
   "cell_type": "code",
   "execution_count": 4,
   "id": "207ef7ef",
   "metadata": {
    "execution": {
     "iopub.execute_input": "2023-03-31T18:39:47.687307Z",
     "iopub.status.busy": "2023-03-31T18:39:47.686860Z",
     "iopub.status.idle": "2023-03-31T18:39:47.693262Z",
     "shell.execute_reply": "2023-03-31T18:39:47.691340Z"
    },
    "papermill": {
     "duration": 0.013612,
     "end_time": "2023-03-31T18:39:47.696050",
     "exception": false,
     "start_time": "2023-03-31T18:39:47.682438",
     "status": "completed"
    },
    "tags": []
   },
   "outputs": [],
   "source": [
    "kf = KFold(n_splits=5, shuffle=True, random_state=42)"
   ]
  },
  {
   "cell_type": "code",
   "execution_count": 5,
   "id": "c4502f36",
   "metadata": {
    "execution": {
     "iopub.execute_input": "2023-03-31T18:39:47.705118Z",
     "iopub.status.busy": "2023-03-31T18:39:47.704364Z",
     "iopub.status.idle": "2023-03-31T18:39:47.712610Z",
     "shell.execute_reply": "2023-03-31T18:39:47.710436Z"
    },
    "papermill": {
     "duration": 0.017458,
     "end_time": "2023-03-31T18:39:47.716767",
     "exception": false,
     "start_time": "2023-03-31T18:39:47.699309",
     "status": "completed"
    },
    "tags": []
   },
   "outputs": [],
   "source": [
    "model = LinearRegression()"
   ]
  },
  {
   "cell_type": "code",
   "execution_count": 6,
   "id": "67e84ff6",
   "metadata": {
    "execution": {
     "iopub.execute_input": "2023-03-31T18:39:47.726396Z",
     "iopub.status.busy": "2023-03-31T18:39:47.725935Z",
     "iopub.status.idle": "2023-03-31T18:39:47.757263Z",
     "shell.execute_reply": "2023-03-31T18:39:47.755820Z"
    },
    "papermill": {
     "duration": 0.039825,
     "end_time": "2023-03-31T18:39:47.760370",
     "exception": false,
     "start_time": "2023-03-31T18:39:47.720545",
     "status": "completed"
    },
    "tags": []
   },
   "outputs": [],
   "source": [
    "scores = []\n",
    "for train_index, test_index in kf.split(X):\n",
    "    X_train, X_test = X[train_index], X[test_index]\n",
    "    y_train, y_test = y[train_index], y[test_index]\n",
    "    \n",
    "    # Modeli eğit\n",
    "    model.fit(X_train, y_train)\n",
    "    \n",
    "    # Test seti üzerinde tahmin yap ve hata hesapla\n",
    "    y_pred = model.predict(X_test)\n",
    "    score = mean_squared_error(y_test, y_pred)\n",
    "    scores.append(score)"
   ]
  },
  {
   "cell_type": "code",
   "execution_count": 7,
   "id": "ef977067",
   "metadata": {
    "execution": {
     "iopub.execute_input": "2023-03-31T18:39:47.769129Z",
     "iopub.status.busy": "2023-03-31T18:39:47.768478Z",
     "iopub.status.idle": "2023-03-31T18:39:47.774274Z",
     "shell.execute_reply": "2023-03-31T18:39:47.772897Z"
    },
    "papermill": {
     "duration": 0.013525,
     "end_time": "2023-03-31T18:39:47.777000",
     "exception": false,
     "start_time": "2023-03-31T18:39:47.763475",
     "status": "completed"
    },
    "tags": []
   },
   "outputs": [],
   "source": [
    "mean_score = np.mean(scores)"
   ]
  },
  {
   "cell_type": "code",
   "execution_count": 8,
   "id": "1d75a5e4",
   "metadata": {
    "execution": {
     "iopub.execute_input": "2023-03-31T18:39:47.784971Z",
     "iopub.status.busy": "2023-03-31T18:39:47.784592Z",
     "iopub.status.idle": "2023-03-31T18:39:47.790787Z",
     "shell.execute_reply": "2023-03-31T18:39:47.789342Z"
    },
    "papermill": {
     "duration": 0.014018,
     "end_time": "2023-03-31T18:39:47.794110",
     "exception": false,
     "start_time": "2023-03-31T18:39:47.780092",
     "status": "completed"
    },
    "tags": []
   },
   "outputs": [
    {
     "name": "stdout",
     "output_type": "stream",
     "text": [
      "K-fold cross validation result:  [0.037113794407976915, 0.042877331697643635, 0.05339513046889763, 0.06316425044891773, 0.047794600654438316]\n",
      "Mean Score:  0.04886902153557484\n"
     ]
    }
   ],
   "source": [
    "print(\"K-fold cross validation result: \", scores)\n",
    "print(\"Mean Score: \", mean_score)"
   ]
  }
 ],
 "metadata": {
  "kernelspec": {
   "display_name": "Python 3",
   "language": "python",
   "name": "python3"
  },
  "language_info": {
   "codemirror_mode": {
    "name": "ipython",
    "version": 3
   },
   "file_extension": ".py",
   "mimetype": "text/x-python",
   "name": "python",
   "nbconvert_exporter": "python",
   "pygments_lexer": "ipython3",
   "version": "3.7.12"
  },
  "papermill": {
   "default_parameters": {},
   "duration": 15.009878,
   "end_time": "2023-03-31T18:39:48.622333",
   "environment_variables": {},
   "exception": null,
   "input_path": "__notebook__.ipynb",
   "output_path": "__notebook__.ipynb",
   "parameters": {},
   "start_time": "2023-03-31T18:39:33.612455",
   "version": "2.4.0"
  }
 },
 "nbformat": 4,
 "nbformat_minor": 5
}
