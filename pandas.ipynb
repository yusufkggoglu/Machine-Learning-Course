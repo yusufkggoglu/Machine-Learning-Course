{
 "cells": [
  {
   "cell_type": "code",
   "execution_count": 1,
   "id": "e9c330cf",
   "metadata": {
    "execution": {
     "iopub.execute_input": "2023-03-10T16:03:21.838612Z",
     "iopub.status.busy": "2023-03-10T16:03:21.838149Z",
     "iopub.status.idle": "2023-03-10T16:03:21.871078Z",
     "shell.execute_reply": "2023-03-10T16:03:21.869104Z"
    },
    "papermill": {
     "duration": 0.047333,
     "end_time": "2023-03-10T16:03:21.875026",
     "exception": false,
     "start_time": "2023-03-10T16:03:21.827693",
     "status": "completed"
    },
    "tags": []
   },
   "outputs": [
    {
     "name": "stdout",
     "output_type": "stream",
     "text": [
      "      Name   Age   Note\n",
      "0    Yusuf  22.0    333\n",
      "1    Recep  51.0    338\n",
      "2   Ayberk  25.0    342\n",
      "3  Ayşegül  42.0  87654\n",
      "4     Aslı   NaN    111\n"
     ]
    }
   ],
   "source": [
    "import pandas as pd\n",
    "\n",
    "dictionary = {\"Name\":[\"Yusuf\",\"Recep\",\"Ayberk\",\"Ayşegül\",\"Aslı\"],\n",
    "             \"Age\":[22,51,25,42,None],\n",
    "             \"Note\":[333,338,342,87654,111]}\n",
    "\n",
    "dataframe1 = pd.DataFrame(dictionary) \n",
    "print(dataframe1)"
   ]
  },
  {
   "cell_type": "code",
   "execution_count": 2,
   "id": "59fe0193",
   "metadata": {
    "execution": {
     "iopub.execute_input": "2023-03-10T16:03:21.893188Z",
     "iopub.status.busy": "2023-03-10T16:03:21.892528Z",
     "iopub.status.idle": "2023-03-10T16:03:21.902473Z",
     "shell.execute_reply": "2023-03-10T16:03:21.900899Z"
    },
    "papermill": {
     "duration": 0.022867,
     "end_time": "2023-03-10T16:03:21.905953",
     "exception": false,
     "start_time": "2023-03-10T16:03:21.883086",
     "status": "completed"
    },
    "tags": []
   },
   "outputs": [
    {
     "name": "stdout",
     "output_type": "stream",
     "text": [
      "      Name   Age   Note\n",
      "0    Yusuf  22.0    333\n",
      "1    Recep  51.0    338\n",
      "2   Ayberk  25.0    342\n",
      "3  Ayşegül  42.0  87654\n",
      "4     Aslı   NaN    111\n"
     ]
    }
   ],
   "source": [
    "head = dataframe1.head() \n",
    "print(head)"
   ]
  },
  {
   "cell_type": "code",
   "execution_count": 3,
   "id": "d5631ed1",
   "metadata": {
    "execution": {
     "iopub.execute_input": "2023-03-10T16:03:21.923693Z",
     "iopub.status.busy": "2023-03-10T16:03:21.923217Z",
     "iopub.status.idle": "2023-03-10T16:03:21.934174Z",
     "shell.execute_reply": "2023-03-10T16:03:21.932319Z"
    },
    "papermill": {
     "duration": 0.023591,
     "end_time": "2023-03-10T16:03:21.937243",
     "exception": false,
     "start_time": "2023-03-10T16:03:21.913652",
     "status": "completed"
    },
    "tags": []
   },
   "outputs": [
    {
     "name": "stdout",
     "output_type": "stream",
     "text": [
      "      Name   Age   Note\n",
      "0    Yusuf  22.0    333\n",
      "1    Recep  51.0    338\n",
      "2   Ayberk  25.0    342\n",
      "3  Ayşegül  42.0  87654\n",
      "4     Aslı   NaN    111\n"
     ]
    }
   ],
   "source": [
    "tail = dataframe1.tail()\n",
    "print(tail)"
   ]
  },
  {
   "cell_type": "code",
   "execution_count": 4,
   "id": "bb04fee2",
   "metadata": {
    "execution": {
     "iopub.execute_input": "2023-03-10T16:03:21.954597Z",
     "iopub.status.busy": "2023-03-10T16:03:21.954147Z",
     "iopub.status.idle": "2023-03-10T16:03:21.960908Z",
     "shell.execute_reply": "2023-03-10T16:03:21.959302Z"
    },
    "papermill": {
     "duration": 0.018988,
     "end_time": "2023-03-10T16:03:21.963950",
     "exception": false,
     "start_time": "2023-03-10T16:03:21.944962",
     "status": "completed"
    },
    "tags": []
   },
   "outputs": [
    {
     "name": "stdout",
     "output_type": "stream",
     "text": [
      "Index(['Name', 'Age', 'Note'], dtype='object')\n"
     ]
    }
   ],
   "source": [
    "print(dataframe1.columns)"
   ]
  },
  {
   "cell_type": "code",
   "execution_count": 5,
   "id": "263d6fd3",
   "metadata": {
    "execution": {
     "iopub.execute_input": "2023-03-10T16:03:21.982270Z",
     "iopub.status.busy": "2023-03-10T16:03:21.981838Z",
     "iopub.status.idle": "2023-03-10T16:03:22.015685Z",
     "shell.execute_reply": "2023-03-10T16:03:22.013693Z"
    },
    "papermill": {
     "duration": 0.047148,
     "end_time": "2023-03-10T16:03:22.019319",
     "exception": false,
     "start_time": "2023-03-10T16:03:21.972171",
     "status": "completed"
    },
    "tags": []
   },
   "outputs": [
    {
     "name": "stdout",
     "output_type": "stream",
     "text": [
      "<class 'pandas.core.frame.DataFrame'>\n",
      "RangeIndex: 5 entries, 0 to 4\n",
      "Data columns (total 3 columns):\n",
      " #   Column  Non-Null Count  Dtype  \n",
      "---  ------  --------------  -----  \n",
      " 0   Name    5 non-null      object \n",
      " 1   Age     4 non-null      float64\n",
      " 2   Note    5 non-null      int64  \n",
      "dtypes: float64(1), int64(1), object(1)\n",
      "memory usage: 248.0+ bytes\n",
      "None\n"
     ]
    }
   ],
   "source": [
    "print(dataframe1.info())"
   ]
  },
  {
   "cell_type": "code",
   "execution_count": 6,
   "id": "5229ab27",
   "metadata": {
    "execution": {
     "iopub.execute_input": "2023-03-10T16:03:22.037709Z",
     "iopub.status.busy": "2023-03-10T16:03:22.036978Z",
     "iopub.status.idle": "2023-03-10T16:03:22.044589Z",
     "shell.execute_reply": "2023-03-10T16:03:22.042921Z"
    },
    "papermill": {
     "duration": 0.020067,
     "end_time": "2023-03-10T16:03:22.047540",
     "exception": false,
     "start_time": "2023-03-10T16:03:22.027473",
     "status": "completed"
    },
    "tags": []
   },
   "outputs": [
    {
     "name": "stdout",
     "output_type": "stream",
     "text": [
      "Name     object\n",
      "Age     float64\n",
      "Note      int64\n",
      "dtype: object\n"
     ]
    }
   ],
   "source": [
    "print(dataframe1.dtypes)"
   ]
  },
  {
   "cell_type": "code",
   "execution_count": 7,
   "id": "54b92f90",
   "metadata": {
    "execution": {
     "iopub.execute_input": "2023-03-10T16:03:22.065598Z",
     "iopub.status.busy": "2023-03-10T16:03:22.065139Z",
     "iopub.status.idle": "2023-03-10T16:03:22.086569Z",
     "shell.execute_reply": "2023-03-10T16:03:22.085034Z"
    },
    "papermill": {
     "duration": 0.035649,
     "end_time": "2023-03-10T16:03:22.091101",
     "exception": false,
     "start_time": "2023-03-10T16:03:22.055452",
     "status": "completed"
    },
    "tags": []
   },
   "outputs": [
    {
     "name": "stdout",
     "output_type": "stream",
     "text": [
      "             Age          Note\n",
      "count   4.000000      5.000000\n",
      "mean   35.000000  17755.600000\n",
      "std    13.832329  39074.516879\n",
      "min    22.000000    111.000000\n",
      "25%    24.250000    333.000000\n",
      "50%    33.500000    338.000000\n",
      "75%    44.250000    342.000000\n",
      "max    51.000000  87654.000000\n"
     ]
    }
   ],
   "source": [
    "print(dataframe1.describe())"
   ]
  },
  {
   "cell_type": "code",
   "execution_count": 8,
   "id": "00bf739d",
   "metadata": {
    "execution": {
     "iopub.execute_input": "2023-03-10T16:03:22.111635Z",
     "iopub.status.busy": "2023-03-10T16:03:22.110692Z",
     "iopub.status.idle": "2023-03-10T16:03:22.130701Z",
     "shell.execute_reply": "2023-03-10T16:03:22.128906Z"
    },
    "papermill": {
     "duration": 0.033957,
     "end_time": "2023-03-10T16:03:22.135071",
     "exception": false,
     "start_time": "2023-03-10T16:03:22.101114",
     "status": "completed"
    },
    "tags": []
   },
   "outputs": [
    {
     "name": "stdout",
     "output_type": "stream",
     "text": [
      "0      Yusuf\n",
      "1      Recep\n",
      "2     Ayberk\n",
      "3    Ayşegül\n",
      "4       Aslı\n",
      "Name: Name, dtype: object\n",
      "0    22.0\n",
      "1    51.0\n",
      "2    25.0\n",
      "3    42.0\n",
      "4     NaN\n",
      "Name: Age, dtype: float64\n",
      "0    22.0\n",
      "1    51.0\n",
      "2    25.0\n",
      "Name: Age, dtype: float64\n",
      "     Name   Age  Note\n",
      "0   Yusuf  22.0   333\n",
      "1   Recep  51.0   338\n",
      "2  Ayberk  25.0   342\n",
      "      Name   Age   Note  yeni_future\n",
      "4     Aslı   NaN    111            5\n",
      "3  Ayşegül  42.0  87654            4\n",
      "2   Ayberk  25.0    342            3\n",
      "1    Recep  51.0    338            2\n",
      "0    Yusuf  22.0    333            1\n"
     ]
    }
   ],
   "source": [
    "print(dataframe1[\"Name\"]) \n",
    "print(dataframe1.loc[:, \"Age\"])                      \n",
    "dataframe1[\"yeni_future\"] = [1,2,3,4,5]\n",
    "print(dataframe1.loc[:2,\"Age\"]) \n",
    "print(dataframe1.loc[:2, \"Name\":\"Note\"])                 \n",
    "print(dataframe1.loc[::-1])  "
   ]
  },
  {
   "cell_type": "code",
   "execution_count": 9,
   "id": "21ebcd1a",
   "metadata": {
    "execution": {
     "iopub.execute_input": "2023-03-10T16:03:22.155698Z",
     "iopub.status.busy": "2023-03-10T16:03:22.153907Z",
     "iopub.status.idle": "2023-03-10T16:03:22.163295Z",
     "shell.execute_reply": "2023-03-10T16:03:22.161410Z"
    },
    "papermill": {
     "duration": 0.023918,
     "end_time": "2023-03-10T16:03:22.167270",
     "exception": false,
     "start_time": "2023-03-10T16:03:22.143352",
     "status": "completed"
    },
    "tags": []
   },
   "outputs": [
    {
     "name": "stdout",
     "output_type": "stream",
     "text": [
      "0    1\n",
      "1    2\n",
      "2    3\n",
      "3    4\n",
      "4    5\n",
      "Name: yeni_future, dtype: int64\n"
     ]
    }
   ],
   "source": [
    "print(dataframe1.yeni_future)"
   ]
  },
  {
   "cell_type": "code",
   "execution_count": 10,
   "id": "bbe808bc",
   "metadata": {
    "execution": {
     "iopub.execute_input": "2023-03-10T16:03:22.188065Z",
     "iopub.status.busy": "2023-03-10T16:03:22.187305Z",
     "iopub.status.idle": "2023-03-10T16:03:22.195574Z",
     "shell.execute_reply": "2023-03-10T16:03:22.194162Z"
    },
    "papermill": {
     "duration": 0.022211,
     "end_time": "2023-03-10T16:03:22.199243",
     "exception": false,
     "start_time": "2023-03-10T16:03:22.177032",
     "status": "completed"
    },
    "tags": []
   },
   "outputs": [
    {
     "name": "stdout",
     "output_type": "stream",
     "text": [
      "0    22.0\n",
      "1    51.0\n",
      "2    25.0\n",
      "3    42.0\n",
      "4     NaN\n",
      "Name: Age, dtype: float64\n"
     ]
    }
   ],
   "source": [
    "print(dataframe1.loc[:, \"Age\"])"
   ]
  },
  {
   "cell_type": "code",
   "execution_count": 11,
   "id": "33404040",
   "metadata": {
    "execution": {
     "iopub.execute_input": "2023-03-10T16:03:22.222021Z",
     "iopub.status.busy": "2023-03-10T16:03:22.221234Z",
     "iopub.status.idle": "2023-03-10T16:03:22.230590Z",
     "shell.execute_reply": "2023-03-10T16:03:22.228527Z"
    },
    "papermill": {
     "duration": 0.023497,
     "end_time": "2023-03-10T16:03:22.233745",
     "exception": false,
     "start_time": "2023-03-10T16:03:22.210248",
     "status": "completed"
    },
    "tags": []
   },
   "outputs": [
    {
     "name": "stdout",
     "output_type": "stream",
     "text": [
      "0    22.0\n",
      "1    51.0\n",
      "2    25.0\n",
      "3    42.0\n",
      "Name: Age, dtype: float64\n"
     ]
    }
   ],
   "source": [
    "print(dataframe1.loc[:3,\"Age\"]) "
   ]
  },
  {
   "cell_type": "code",
   "execution_count": 12,
   "id": "04f0d9b3",
   "metadata": {
    "execution": {
     "iopub.execute_input": "2023-03-10T16:03:22.255683Z",
     "iopub.status.busy": "2023-03-10T16:03:22.254777Z",
     "iopub.status.idle": "2023-03-10T16:03:22.266456Z",
     "shell.execute_reply": "2023-03-10T16:03:22.265074Z"
    },
    "papermill": {
     "duration": 0.026436,
     "end_time": "2023-03-10T16:03:22.270072",
     "exception": false,
     "start_time": "2023-03-10T16:03:22.243636",
     "status": "completed"
    },
    "tags": []
   },
   "outputs": [
    {
     "name": "stdout",
     "output_type": "stream",
     "text": [
      "    Name   Age  Note\n",
      "0  Yusuf  22.0   333\n",
      "1  Recep  51.0   338\n"
     ]
    }
   ],
   "source": [
    "print(dataframe1.loc[:1, \"Name\":\"Note\"]) "
   ]
  },
  {
   "cell_type": "code",
   "execution_count": 13,
   "id": "31bbe93a",
   "metadata": {
    "execution": {
     "iopub.execute_input": "2023-03-10T16:03:22.292455Z",
     "iopub.status.busy": "2023-03-10T16:03:22.290744Z",
     "iopub.status.idle": "2023-03-10T16:03:22.304216Z",
     "shell.execute_reply": "2023-03-10T16:03:22.302367Z"
    },
    "papermill": {
     "duration": 0.028233,
     "end_time": "2023-03-10T16:03:22.307550",
     "exception": false,
     "start_time": "2023-03-10T16:03:22.279317",
     "status": "completed"
    },
    "tags": []
   },
   "outputs": [
    {
     "name": "stdout",
     "output_type": "stream",
     "text": [
      "     Name  Note\n",
      "0   Yusuf   333\n",
      "1   Recep   338\n",
      "2  Ayberk   342\n"
     ]
    }
   ],
   "source": [
    "print(dataframe1.loc[:2, [\"Name\",\"Note\"]])"
   ]
  },
  {
   "cell_type": "code",
   "execution_count": 14,
   "id": "8da53617",
   "metadata": {
    "execution": {
     "iopub.execute_input": "2023-03-10T16:03:22.327821Z",
     "iopub.status.busy": "2023-03-10T16:03:22.327312Z",
     "iopub.status.idle": "2023-03-10T16:03:22.336986Z",
     "shell.execute_reply": "2023-03-10T16:03:22.335412Z"
    },
    "papermill": {
     "duration": 0.024764,
     "end_time": "2023-03-10T16:03:22.341142",
     "exception": false,
     "start_time": "2023-03-10T16:03:22.316378",
     "status": "completed"
    },
    "tags": []
   },
   "outputs": [
    {
     "name": "stdout",
     "output_type": "stream",
     "text": [
      "      Name   Age   Note  yeni_future\n",
      "4     Aslı   NaN    111            5\n",
      "3  Ayşegül  42.0  87654            4\n",
      "2   Ayberk  25.0    342            3\n",
      "1    Recep  51.0    338            2\n",
      "0    Yusuf  22.0    333            1\n"
     ]
    }
   ],
   "source": [
    "print(dataframe1.loc[::-1])"
   ]
  },
  {
   "cell_type": "code",
   "execution_count": 15,
   "id": "a55fed86",
   "metadata": {
    "execution": {
     "iopub.execute_input": "2023-03-10T16:03:22.362230Z",
     "iopub.status.busy": "2023-03-10T16:03:22.361710Z",
     "iopub.status.idle": "2023-03-10T16:03:22.372368Z",
     "shell.execute_reply": "2023-03-10T16:03:22.370363Z"
    },
    "papermill": {
     "duration": 0.025247,
     "end_time": "2023-03-10T16:03:22.375892",
     "exception": false,
     "start_time": "2023-03-10T16:03:22.350645",
     "status": "completed"
    },
    "tags": []
   },
   "outputs": [
    {
     "name": "stdout",
     "output_type": "stream",
     "text": [
      "      Name   Age\n",
      "0    Yusuf  22.0\n",
      "1    Recep  51.0\n",
      "2   Ayberk  25.0\n",
      "3  Ayşegül  42.0\n",
      "4     Aslı   NaN\n"
     ]
    }
   ],
   "source": [
    "print(dataframe1.loc[:,:\"Age\"])"
   ]
  },
  {
   "cell_type": "code",
   "execution_count": 16,
   "id": "853668f4",
   "metadata": {
    "execution": {
     "iopub.execute_input": "2023-03-10T16:03:22.396660Z",
     "iopub.status.busy": "2023-03-10T16:03:22.396178Z",
     "iopub.status.idle": "2023-03-10T16:03:22.406169Z",
     "shell.execute_reply": "2023-03-10T16:03:22.404463Z"
    },
    "papermill": {
     "duration": 0.025973,
     "end_time": "2023-03-10T16:03:22.411031",
     "exception": false,
     "start_time": "2023-03-10T16:03:22.385058",
     "status": "completed"
    },
    "tags": []
   },
   "outputs": [
    {
     "name": "stdout",
     "output_type": "stream",
     "text": [
      "   yeni_future\n",
      "0            1\n",
      "1            2\n",
      "2            3\n",
      "3            4\n",
      "4            5\n"
     ]
    }
   ],
   "source": [
    "print(dataframe1.iloc[:,[3]])"
   ]
  },
  {
   "cell_type": "code",
   "execution_count": 17,
   "id": "fc720faf",
   "metadata": {
    "execution": {
     "iopub.execute_input": "2023-03-10T16:03:22.435361Z",
     "iopub.status.busy": "2023-03-10T16:03:22.433867Z",
     "iopub.status.idle": "2023-03-10T16:03:22.446773Z",
     "shell.execute_reply": "2023-03-10T16:03:22.444773Z"
    },
    "papermill": {
     "duration": 0.028242,
     "end_time": "2023-03-10T16:03:22.450202",
     "exception": false,
     "start_time": "2023-03-10T16:03:22.421960",
     "status": "completed"
    },
    "tags": []
   },
   "outputs": [
    {
     "name": "stdout",
     "output_type": "stream",
     "text": [
      "    Age   Bool\n",
      "0  22.0  False\n",
      "1  51.0   True\n",
      "2  25.0  False\n",
      "3  42.0   True\n",
      "4   NaN  False\n"
     ]
    }
   ],
   "source": [
    "filtre1 = dataframe1.Age>35                           \n",
    "dataframe1[\"Bool\"]= filtre1\n",
    "print(dataframe1.loc[:,[\"Age\",\"Bool\"]])"
   ]
  },
  {
   "cell_type": "code",
   "execution_count": 18,
   "id": "0620a492",
   "metadata": {
    "execution": {
     "iopub.execute_input": "2023-03-10T16:03:22.470731Z",
     "iopub.status.busy": "2023-03-10T16:03:22.470213Z",
     "iopub.status.idle": "2023-03-10T16:03:22.480112Z",
     "shell.execute_reply": "2023-03-10T16:03:22.478901Z"
    },
    "papermill": {
     "duration": 0.02348,
     "end_time": "2023-03-10T16:03:22.483010",
     "exception": false,
     "start_time": "2023-03-10T16:03:22.459530",
     "status": "completed"
    },
    "tags": []
   },
   "outputs": [
    {
     "data": {
      "text/plain": [
       "pandas.core.series.Series"
      ]
     },
     "execution_count": 18,
     "metadata": {},
     "output_type": "execute_result"
    }
   ],
   "source": [
    "type(filtre1)"
   ]
  },
  {
   "cell_type": "code",
   "execution_count": 19,
   "id": "3fe5da11",
   "metadata": {
    "execution": {
     "iopub.execute_input": "2023-03-10T16:03:22.504200Z",
     "iopub.status.busy": "2023-03-10T16:03:22.503687Z",
     "iopub.status.idle": "2023-03-10T16:03:22.515856Z",
     "shell.execute_reply": "2023-03-10T16:03:22.514248Z"
    },
    "papermill": {
     "duration": 0.026769,
     "end_time": "2023-03-10T16:03:22.519476",
     "exception": false,
     "start_time": "2023-03-10T16:03:22.492707",
     "status": "completed"
    },
    "tags": []
   },
   "outputs": [
    {
     "name": "stdout",
     "output_type": "stream",
     "text": [
      "      Name   Age   Note  yeni_future  Bool\n",
      "1    Recep  51.0    338            2  True\n",
      "3  Ayşegül  42.0  87654            4  True\n"
     ]
    }
   ],
   "source": [
    "filtrelenmis_data= dataframe1[filtre1] \n",
    "print(filtrelenmis_data)"
   ]
  },
  {
   "cell_type": "code",
   "execution_count": 20,
   "id": "e7238848",
   "metadata": {
    "execution": {
     "iopub.execute_input": "2023-03-10T16:03:22.540789Z",
     "iopub.status.busy": "2023-03-10T16:03:22.540312Z",
     "iopub.status.idle": "2023-03-10T16:03:22.552227Z",
     "shell.execute_reply": "2023-03-10T16:03:22.550454Z"
    },
    "papermill": {
     "duration": 0.027235,
     "end_time": "2023-03-10T16:03:22.556511",
     "exception": false,
     "start_time": "2023-03-10T16:03:22.529276",
     "status": "completed"
    },
    "tags": []
   },
   "outputs": [
    {
     "name": "stdout",
     "output_type": "stream",
     "text": [
      "      Name   Age   Note  yeni_future  Bool\n",
      "1    Recep  51.0    338            2  True\n",
      "3  Ayşegül  42.0  87654            4  True\n"
     ]
    }
   ],
   "source": [
    "filtre2 = dataframe1.Note>150\n",
    "filtrelenmis_data2 = dataframe1[filtre2&filtre1] \n",
    "print(filtrelenmis_data2)"
   ]
  },
  {
   "cell_type": "code",
   "execution_count": 21,
   "id": "733788ce",
   "metadata": {
    "execution": {
     "iopub.execute_input": "2023-03-10T16:03:22.577806Z",
     "iopub.status.busy": "2023-03-10T16:03:22.577227Z",
     "iopub.status.idle": "2023-03-10T16:03:22.602301Z",
     "shell.execute_reply": "2023-03-10T16:03:22.600743Z"
    },
    "papermill": {
     "duration": 0.039554,
     "end_time": "2023-03-10T16:03:22.605323",
     "exception": false,
     "start_time": "2023-03-10T16:03:22.565769",
     "status": "completed"
    },
    "tags": []
   },
   "outputs": [
    {
     "data": {
      "text/html": [
       "<div>\n",
       "<style scoped>\n",
       "    .dataframe tbody tr th:only-of-type {\n",
       "        vertical-align: middle;\n",
       "    }\n",
       "\n",
       "    .dataframe tbody tr th {\n",
       "        vertical-align: top;\n",
       "    }\n",
       "\n",
       "    .dataframe thead th {\n",
       "        text-align: right;\n",
       "    }\n",
       "</style>\n",
       "<table border=\"1\" class=\"dataframe\">\n",
       "  <thead>\n",
       "    <tr style=\"text-align: right;\">\n",
       "      <th></th>\n",
       "      <th>Name</th>\n",
       "      <th>Age</th>\n",
       "      <th>Note</th>\n",
       "      <th>yeni_future</th>\n",
       "      <th>Bool</th>\n",
       "    </tr>\n",
       "  </thead>\n",
       "  <tbody>\n",
       "    <tr>\n",
       "      <th>1</th>\n",
       "      <td>Recep</td>\n",
       "      <td>51.0</td>\n",
       "      <td>338</td>\n",
       "      <td>2</td>\n",
       "      <td>True</td>\n",
       "    </tr>\n",
       "    <tr>\n",
       "      <th>2</th>\n",
       "      <td>Ayberk</td>\n",
       "      <td>25.0</td>\n",
       "      <td>342</td>\n",
       "      <td>3</td>\n",
       "      <td>False</td>\n",
       "    </tr>\n",
       "    <tr>\n",
       "      <th>3</th>\n",
       "      <td>Ayşegül</td>\n",
       "      <td>42.0</td>\n",
       "      <td>87654</td>\n",
       "      <td>4</td>\n",
       "      <td>True</td>\n",
       "    </tr>\n",
       "  </tbody>\n",
       "</table>\n",
       "</div>"
      ],
      "text/plain": [
       "      Name   Age   Note  yeni_future   Bool\n",
       "1    Recep  51.0    338            2   True\n",
       "2   Ayberk  25.0    342            3  False\n",
       "3  Ayşegül  42.0  87654            4   True"
      ]
     },
     "execution_count": 21,
     "metadata": {},
     "output_type": "execute_result"
    }
   ],
   "source": [
    "dataframe1[dataframe1.Age>23]"
   ]
  },
  {
   "cell_type": "code",
   "execution_count": 22,
   "id": "10bf7bf0",
   "metadata": {
    "execution": {
     "iopub.execute_input": "2023-03-10T16:03:22.628454Z",
     "iopub.status.busy": "2023-03-10T16:03:22.627004Z",
     "iopub.status.idle": "2023-03-10T16:03:22.636584Z",
     "shell.execute_reply": "2023-03-10T16:03:22.634762Z"
    },
    "papermill": {
     "duration": 0.025891,
     "end_time": "2023-03-10T16:03:22.641255",
     "exception": false,
     "start_time": "2023-03-10T16:03:22.615364",
     "status": "completed"
    },
    "tags": []
   },
   "outputs": [
    {
     "name": "stdout",
     "output_type": "stream",
     "text": [
      "17755.6\n",
      "17755.6\n"
     ]
    }
   ],
   "source": [
    "import numpy as np\n",
    "\n",
    "ortalama = dataframe1.Note.mean()\n",
    "print(ortalama)\n",
    "\n",
    "ortlama_np= np.mean(dataframe1.Note) \n",
    "print(ortlama_np)"
   ]
  },
  {
   "cell_type": "code",
   "execution_count": 23,
   "id": "4a6cd3e6",
   "metadata": {
    "execution": {
     "iopub.execute_input": "2023-03-10T16:03:22.662146Z",
     "iopub.status.busy": "2023-03-10T16:03:22.661642Z",
     "iopub.status.idle": "2023-03-10T16:03:22.680624Z",
     "shell.execute_reply": "2023-03-10T16:03:22.678582Z"
    },
    "papermill": {
     "duration": 0.03352,
     "end_time": "2023-03-10T16:03:22.684679",
     "exception": false,
     "start_time": "2023-03-10T16:03:22.651159",
     "status": "completed"
    },
    "tags": []
   },
   "outputs": [
    {
     "data": {
      "text/html": [
       "<div>\n",
       "<style scoped>\n",
       "    .dataframe tbody tr th:only-of-type {\n",
       "        vertical-align: middle;\n",
       "    }\n",
       "\n",
       "    .dataframe tbody tr th {\n",
       "        vertical-align: top;\n",
       "    }\n",
       "\n",
       "    .dataframe thead th {\n",
       "        text-align: right;\n",
       "    }\n",
       "</style>\n",
       "<table border=\"1\" class=\"dataframe\">\n",
       "  <thead>\n",
       "    <tr style=\"text-align: right;\">\n",
       "      <th></th>\n",
       "      <th>Name</th>\n",
       "      <th>Age</th>\n",
       "      <th>Note</th>\n",
       "      <th>yeni_future</th>\n",
       "      <th>Bool</th>\n",
       "    </tr>\n",
       "  </thead>\n",
       "  <tbody>\n",
       "    <tr>\n",
       "      <th>0</th>\n",
       "      <td>Yusuf</td>\n",
       "      <td>22.0</td>\n",
       "      <td>333</td>\n",
       "      <td>1</td>\n",
       "      <td>False</td>\n",
       "    </tr>\n",
       "    <tr>\n",
       "      <th>1</th>\n",
       "      <td>Recep</td>\n",
       "      <td>51.0</td>\n",
       "      <td>338</td>\n",
       "      <td>2</td>\n",
       "      <td>True</td>\n",
       "    </tr>\n",
       "    <tr>\n",
       "      <th>2</th>\n",
       "      <td>Ayberk</td>\n",
       "      <td>25.0</td>\n",
       "      <td>342</td>\n",
       "      <td>3</td>\n",
       "      <td>False</td>\n",
       "    </tr>\n",
       "    <tr>\n",
       "      <th>3</th>\n",
       "      <td>Ayşegül</td>\n",
       "      <td>42.0</td>\n",
       "      <td>87654</td>\n",
       "      <td>4</td>\n",
       "      <td>True</td>\n",
       "    </tr>\n",
       "  </tbody>\n",
       "</table>\n",
       "</div>"
      ],
      "text/plain": [
       "      Name   Age   Note  yeni_future   Bool\n",
       "0    Yusuf  22.0    333            1  False\n",
       "1    Recep  51.0    338            2   True\n",
       "2   Ayberk  25.0    342            3  False\n",
       "3  Ayşegül  42.0  87654            4   True"
      ]
     },
     "execution_count": 23,
     "metadata": {},
     "output_type": "execute_result"
    }
   ],
   "source": [
    "dataframe1.dropna(inplace=True)\n",
    "\n",
    "dataframe1"
   ]
  },
  {
   "cell_type": "code",
   "execution_count": 24,
   "id": "be2df7df",
   "metadata": {
    "execution": {
     "iopub.execute_input": "2023-03-10T16:03:22.707938Z",
     "iopub.status.busy": "2023-03-10T16:03:22.707199Z",
     "iopub.status.idle": "2023-03-10T16:03:22.726516Z",
     "shell.execute_reply": "2023-03-10T16:03:22.724595Z"
    },
    "papermill": {
     "duration": 0.0338,
     "end_time": "2023-03-10T16:03:22.729546",
     "exception": false,
     "start_time": "2023-03-10T16:03:22.695746",
     "status": "completed"
    },
    "tags": []
   },
   "outputs": [
    {
     "name": "stdout",
     "output_type": "stream",
     "text": [
      "22166.75\n"
     ]
    },
    {
     "data": {
      "text/html": [
       "<div>\n",
       "<style scoped>\n",
       "    .dataframe tbody tr th:only-of-type {\n",
       "        vertical-align: middle;\n",
       "    }\n",
       "\n",
       "    .dataframe tbody tr th {\n",
       "        vertical-align: top;\n",
       "    }\n",
       "\n",
       "    .dataframe thead th {\n",
       "        text-align: right;\n",
       "    }\n",
       "</style>\n",
       "<table border=\"1\" class=\"dataframe\">\n",
       "  <thead>\n",
       "    <tr style=\"text-align: right;\">\n",
       "      <th></th>\n",
       "      <th>Name</th>\n",
       "      <th>Age</th>\n",
       "      <th>Note</th>\n",
       "      <th>yeni_future</th>\n",
       "      <th>Bool</th>\n",
       "      <th>Ortalama</th>\n",
       "    </tr>\n",
       "  </thead>\n",
       "  <tbody>\n",
       "    <tr>\n",
       "      <th>0</th>\n",
       "      <td>Yusuf</td>\n",
       "      <td>22.0</td>\n",
       "      <td>333</td>\n",
       "      <td>1</td>\n",
       "      <td>False</td>\n",
       "      <td>Ortalamanın Altında NOT</td>\n",
       "    </tr>\n",
       "    <tr>\n",
       "      <th>1</th>\n",
       "      <td>Recep</td>\n",
       "      <td>51.0</td>\n",
       "      <td>338</td>\n",
       "      <td>2</td>\n",
       "      <td>True</td>\n",
       "      <td>Ortalamanın Altında NOT</td>\n",
       "    </tr>\n",
       "    <tr>\n",
       "      <th>2</th>\n",
       "      <td>Ayberk</td>\n",
       "      <td>25.0</td>\n",
       "      <td>342</td>\n",
       "      <td>3</td>\n",
       "      <td>False</td>\n",
       "      <td>Ortalamanın Altında NOT</td>\n",
       "    </tr>\n",
       "    <tr>\n",
       "      <th>3</th>\n",
       "      <td>Ayşegül</td>\n",
       "      <td>42.0</td>\n",
       "      <td>87654</td>\n",
       "      <td>4</td>\n",
       "      <td>True</td>\n",
       "      <td>Ortalamanın Üstünde NOT</td>\n",
       "    </tr>\n",
       "  </tbody>\n",
       "</table>\n",
       "</div>"
      ],
      "text/plain": [
       "      Name   Age   Note  yeni_future   Bool                 Ortalama\n",
       "0    Yusuf  22.0    333            1  False  Ortalamanın Altında NOT\n",
       "1    Recep  51.0    338            2   True  Ortalamanın Altında NOT\n",
       "2   Ayberk  25.0    342            3  False  Ortalamanın Altında NOT\n",
       "3  Ayşegül  42.0  87654            4   True  Ortalamanın Üstünde NOT"
      ]
     },
     "execution_count": 24,
     "metadata": {},
     "output_type": "execute_result"
    }
   ],
   "source": [
    "print(dataframe1.Note.mean()) \n",
    "dataframe1[\"Ortalama\"]= [\"Ortalamanın Altında NOT\" if dataframe1.Note.mean()>each else \"Ortalamanın Üstünde NOT\" for each in dataframe1.Note]\n",
    "dataframe1"
   ]
  },
  {
   "cell_type": "code",
   "execution_count": 25,
   "id": "123e8e00",
   "metadata": {
    "execution": {
     "iopub.execute_input": "2023-03-10T16:03:22.750854Z",
     "iopub.status.busy": "2023-03-10T16:03:22.750398Z",
     "iopub.status.idle": "2023-03-10T16:03:22.760310Z",
     "shell.execute_reply": "2023-03-10T16:03:22.758476Z"
    },
    "papermill": {
     "duration": 0.024534,
     "end_time": "2023-03-10T16:03:22.763728",
     "exception": false,
     "start_time": "2023-03-10T16:03:22.739194",
     "status": "completed"
    },
    "tags": []
   },
   "outputs": [
    {
     "data": {
      "text/plain": [
       "Index(['NAME', 'AGE', 'NOTE', 'YENI_FUTURE', 'BOOL', 'ORTALAMA'], dtype='object')"
      ]
     },
     "execution_count": 25,
     "metadata": {},
     "output_type": "execute_result"
    }
   ],
   "source": [
    "dataframe1.columns = [each.upper() for each in dataframe1.columns]\n",
    "dataframe1.columns"
   ]
  },
  {
   "cell_type": "code",
   "execution_count": 26,
   "id": "a11b6401",
   "metadata": {
    "execution": {
     "iopub.execute_input": "2023-03-10T16:03:22.787909Z",
     "iopub.status.busy": "2023-03-10T16:03:22.787286Z",
     "iopub.status.idle": "2023-03-10T16:03:22.804500Z",
     "shell.execute_reply": "2023-03-10T16:03:22.802899Z"
    },
    "papermill": {
     "duration": 0.033894,
     "end_time": "2023-03-10T16:03:22.808226",
     "exception": false,
     "start_time": "2023-03-10T16:03:22.774332",
     "status": "completed"
    },
    "tags": []
   },
   "outputs": [
    {
     "data": {
      "text/html": [
       "<div>\n",
       "<style scoped>\n",
       "    .dataframe tbody tr th:only-of-type {\n",
       "        vertical-align: middle;\n",
       "    }\n",
       "\n",
       "    .dataframe tbody tr th {\n",
       "        vertical-align: top;\n",
       "    }\n",
       "\n",
       "    .dataframe thead th {\n",
       "        text-align: right;\n",
       "    }\n",
       "</style>\n",
       "<table border=\"1\" class=\"dataframe\">\n",
       "  <thead>\n",
       "    <tr style=\"text-align: right;\">\n",
       "      <th></th>\n",
       "      <th>NAME</th>\n",
       "      <th>AGE</th>\n",
       "      <th>NOTE</th>\n",
       "      <th>YENI_FUTURE</th>\n",
       "      <th>BOOL</th>\n",
       "      <th>ORTALAMA</th>\n",
       "    </tr>\n",
       "  </thead>\n",
       "  <tbody>\n",
       "    <tr>\n",
       "      <th>0</th>\n",
       "      <td>Yusuf</td>\n",
       "      <td>22.0</td>\n",
       "      <td>333</td>\n",
       "      <td>1</td>\n",
       "      <td>False</td>\n",
       "      <td>Ortalamanın Altında NOT</td>\n",
       "    </tr>\n",
       "    <tr>\n",
       "      <th>1</th>\n",
       "      <td>Recep</td>\n",
       "      <td>51.0</td>\n",
       "      <td>338</td>\n",
       "      <td>2</td>\n",
       "      <td>True</td>\n",
       "      <td>Ortalamanın Altında NOT</td>\n",
       "    </tr>\n",
       "    <tr>\n",
       "      <th>2</th>\n",
       "      <td>Ayberk</td>\n",
       "      <td>25.0</td>\n",
       "      <td>342</td>\n",
       "      <td>3</td>\n",
       "      <td>False</td>\n",
       "      <td>Ortalamanın Altında NOT</td>\n",
       "    </tr>\n",
       "    <tr>\n",
       "      <th>3</th>\n",
       "      <td>Ayşegül</td>\n",
       "      <td>42.0</td>\n",
       "      <td>87654</td>\n",
       "      <td>4</td>\n",
       "      <td>True</td>\n",
       "      <td>Ortalamanın Üstünde NOT</td>\n",
       "    </tr>\n",
       "  </tbody>\n",
       "</table>\n",
       "</div>"
      ],
      "text/plain": [
       "      NAME   AGE   NOTE  YENI_FUTURE   BOOL                 ORTALAMA\n",
       "0    Yusuf  22.0    333            1  False  Ortalamanın Altında NOT\n",
       "1    Recep  51.0    338            2   True  Ortalamanın Altında NOT\n",
       "2   Ayberk  25.0    342            3  False  Ortalamanın Altında NOT\n",
       "3  Ayşegül  42.0  87654            4   True  Ortalamanın Üstünde NOT"
      ]
     },
     "execution_count": 26,
     "metadata": {},
     "output_type": "execute_result"
    }
   ],
   "source": [
    "dataframe1.columns = [ each.split(\" \")[0]+\"_\"+each.split(\" \")[1] if len(each.split(\" \"))>1 else each for each in dataframe1.columns]\n",
    "dataframe1"
   ]
  },
  {
   "cell_type": "code",
   "execution_count": 27,
   "id": "094bdc41",
   "metadata": {
    "execution": {
     "iopub.execute_input": "2023-03-10T16:03:22.830998Z",
     "iopub.status.busy": "2023-03-10T16:03:22.830503Z",
     "iopub.status.idle": "2023-03-10T16:03:22.851380Z",
     "shell.execute_reply": "2023-03-10T16:03:22.849838Z"
    },
    "papermill": {
     "duration": 0.035596,
     "end_time": "2023-03-10T16:03:22.854373",
     "exception": false,
     "start_time": "2023-03-10T16:03:22.818777",
     "status": "completed"
    },
    "tags": []
   },
   "outputs": [
    {
     "data": {
      "text/html": [
       "<div>\n",
       "<style scoped>\n",
       "    .dataframe tbody tr th:only-of-type {\n",
       "        vertical-align: middle;\n",
       "    }\n",
       "\n",
       "    .dataframe tbody tr th {\n",
       "        vertical-align: top;\n",
       "    }\n",
       "\n",
       "    .dataframe thead th {\n",
       "        text-align: right;\n",
       "    }\n",
       "</style>\n",
       "<table border=\"1\" class=\"dataframe\">\n",
       "  <thead>\n",
       "    <tr style=\"text-align: right;\">\n",
       "      <th></th>\n",
       "      <th>NAME</th>\n",
       "      <th>AGE</th>\n",
       "      <th>NOTE</th>\n",
       "      <th>YENI_FUTURE</th>\n",
       "      <th>BOOL</th>\n",
       "      <th>ORTALAMA</th>\n",
       "    </tr>\n",
       "  </thead>\n",
       "  <tbody>\n",
       "    <tr>\n",
       "      <th>0</th>\n",
       "      <td>Yusuf</td>\n",
       "      <td>22.0</td>\n",
       "      <td>333</td>\n",
       "      <td>1</td>\n",
       "      <td>False</td>\n",
       "      <td>Ortalamanın Altında NOT</td>\n",
       "    </tr>\n",
       "    <tr>\n",
       "      <th>1</th>\n",
       "      <td>Recep</td>\n",
       "      <td>51.0</td>\n",
       "      <td>338</td>\n",
       "      <td>2</td>\n",
       "      <td>True</td>\n",
       "      <td>Ortalamanın Altında NOT</td>\n",
       "    </tr>\n",
       "    <tr>\n",
       "      <th>2</th>\n",
       "      <td>Ayberk</td>\n",
       "      <td>25.0</td>\n",
       "      <td>342</td>\n",
       "      <td>3</td>\n",
       "      <td>False</td>\n",
       "      <td>Ortalamanın Altında NOT</td>\n",
       "    </tr>\n",
       "    <tr>\n",
       "      <th>3</th>\n",
       "      <td>Ayşegül</td>\n",
       "      <td>42.0</td>\n",
       "      <td>87654</td>\n",
       "      <td>4</td>\n",
       "      <td>True</td>\n",
       "      <td>Ortalamanın Üstünde NOT</td>\n",
       "    </tr>\n",
       "    <tr>\n",
       "      <th>0</th>\n",
       "      <td>Yusuf</td>\n",
       "      <td>22.0</td>\n",
       "      <td>333</td>\n",
       "      <td>1</td>\n",
       "      <td>False</td>\n",
       "      <td>Ortalamanın Altında NOT</td>\n",
       "    </tr>\n",
       "    <tr>\n",
       "      <th>1</th>\n",
       "      <td>Recep</td>\n",
       "      <td>51.0</td>\n",
       "      <td>338</td>\n",
       "      <td>2</td>\n",
       "      <td>True</td>\n",
       "      <td>Ortalamanın Altında NOT</td>\n",
       "    </tr>\n",
       "    <tr>\n",
       "      <th>2</th>\n",
       "      <td>Ayberk</td>\n",
       "      <td>25.0</td>\n",
       "      <td>342</td>\n",
       "      <td>3</td>\n",
       "      <td>False</td>\n",
       "      <td>Ortalamanın Altında NOT</td>\n",
       "    </tr>\n",
       "    <tr>\n",
       "      <th>3</th>\n",
       "      <td>Ayşegül</td>\n",
       "      <td>42.0</td>\n",
       "      <td>87654</td>\n",
       "      <td>4</td>\n",
       "      <td>True</td>\n",
       "      <td>Ortalamanın Üstünde NOT</td>\n",
       "    </tr>\n",
       "  </tbody>\n",
       "</table>\n",
       "</div>"
      ],
      "text/plain": [
       "      NAME   AGE   NOTE  YENI_FUTURE   BOOL                 ORTALAMA\n",
       "0    Yusuf  22.0    333            1  False  Ortalamanın Altında NOT\n",
       "1    Recep  51.0    338            2   True  Ortalamanın Altında NOT\n",
       "2   Ayberk  25.0    342            3  False  Ortalamanın Altında NOT\n",
       "3  Ayşegül  42.0  87654            4   True  Ortalamanın Üstünde NOT\n",
       "0    Yusuf  22.0    333            1  False  Ortalamanın Altında NOT\n",
       "1    Recep  51.0    338            2   True  Ortalamanın Altında NOT\n",
       "2   Ayberk  25.0    342            3  False  Ortalamanın Altında NOT\n",
       "3  Ayşegül  42.0  87654            4   True  Ortalamanın Üstünde NOT"
      ]
     },
     "execution_count": 27,
     "metadata": {},
     "output_type": "execute_result"
    }
   ],
   "source": [
    "data1 = dataframe1.head()     \n",
    "data2 = dataframe1.tail()\n",
    "data_concat = pd.concat([data1,data2],axis=0)\n",
    "data_concat"
   ]
  },
  {
   "cell_type": "code",
   "execution_count": 28,
   "id": "7341639f",
   "metadata": {
    "execution": {
     "iopub.execute_input": "2023-03-10T16:03:22.877450Z",
     "iopub.status.busy": "2023-03-10T16:03:22.877011Z",
     "iopub.status.idle": "2023-03-10T16:03:22.896203Z",
     "shell.execute_reply": "2023-03-10T16:03:22.894748Z"
    },
    "papermill": {
     "duration": 0.035245,
     "end_time": "2023-03-10T16:03:22.899939",
     "exception": false,
     "start_time": "2023-03-10T16:03:22.864694",
     "status": "completed"
    },
    "tags": []
   },
   "outputs": [
    {
     "data": {
      "text/html": [
       "<div>\n",
       "<style scoped>\n",
       "    .dataframe tbody tr th:only-of-type {\n",
       "        vertical-align: middle;\n",
       "    }\n",
       "\n",
       "    .dataframe tbody tr th {\n",
       "        vertical-align: top;\n",
       "    }\n",
       "\n",
       "    .dataframe thead th {\n",
       "        text-align: right;\n",
       "    }\n",
       "</style>\n",
       "<table border=\"1\" class=\"dataframe\">\n",
       "  <thead>\n",
       "    <tr style=\"text-align: right;\">\n",
       "      <th></th>\n",
       "      <th>NAME</th>\n",
       "      <th>AGE</th>\n",
       "      <th>NOTE</th>\n",
       "      <th>YENI_FUTURE</th>\n",
       "      <th>BOOL</th>\n",
       "      <th>ORTALAMA</th>\n",
       "      <th>Büyük Yaş</th>\n",
       "    </tr>\n",
       "  </thead>\n",
       "  <tbody>\n",
       "    <tr>\n",
       "      <th>0</th>\n",
       "      <td>Yusuf</td>\n",
       "      <td>22.0</td>\n",
       "      <td>333</td>\n",
       "      <td>1</td>\n",
       "      <td>False</td>\n",
       "      <td>Ortalamanın Altında NOT</td>\n",
       "      <td>44.0</td>\n",
       "    </tr>\n",
       "    <tr>\n",
       "      <th>1</th>\n",
       "      <td>Recep</td>\n",
       "      <td>51.0</td>\n",
       "      <td>338</td>\n",
       "      <td>2</td>\n",
       "      <td>True</td>\n",
       "      <td>Ortalamanın Altında NOT</td>\n",
       "      <td>102.0</td>\n",
       "    </tr>\n",
       "    <tr>\n",
       "      <th>2</th>\n",
       "      <td>Ayberk</td>\n",
       "      <td>25.0</td>\n",
       "      <td>342</td>\n",
       "      <td>3</td>\n",
       "      <td>False</td>\n",
       "      <td>Ortalamanın Altında NOT</td>\n",
       "      <td>50.0</td>\n",
       "    </tr>\n",
       "    <tr>\n",
       "      <th>3</th>\n",
       "      <td>Ayşegül</td>\n",
       "      <td>42.0</td>\n",
       "      <td>87654</td>\n",
       "      <td>4</td>\n",
       "      <td>True</td>\n",
       "      <td>Ortalamanın Üstünde NOT</td>\n",
       "      <td>84.0</td>\n",
       "    </tr>\n",
       "  </tbody>\n",
       "</table>\n",
       "</div>"
      ],
      "text/plain": [
       "      NAME   AGE   NOTE  YENI_FUTURE   BOOL                 ORTALAMA  \\\n",
       "0    Yusuf  22.0    333            1  False  Ortalamanın Altında NOT   \n",
       "1    Recep  51.0    338            2   True  Ortalamanın Altında NOT   \n",
       "2   Ayberk  25.0    342            3  False  Ortalamanın Altında NOT   \n",
       "3  Ayşegül  42.0  87654            4   True  Ortalamanın Üstünde NOT   \n",
       "\n",
       "   Büyük Yaş  \n",
       "0       44.0  \n",
       "1      102.0  \n",
       "2       50.0  \n",
       "3       84.0  "
      ]
     },
     "execution_count": 28,
     "metadata": {},
     "output_type": "execute_result"
    }
   ],
   "source": [
    "dataframe1[\"Büyük Yaş\"] = [each*2 for each in dataframe1.AGE]\n",
    "dataframe1"
   ]
  },
  {
   "cell_type": "code",
   "execution_count": 29,
   "id": "441b92cf",
   "metadata": {
    "execution": {
     "iopub.execute_input": "2023-03-10T16:03:22.924073Z",
     "iopub.status.busy": "2023-03-10T16:03:22.922566Z",
     "iopub.status.idle": "2023-03-10T16:03:22.942167Z",
     "shell.execute_reply": "2023-03-10T16:03:22.940576Z"
    },
    "papermill": {
     "duration": 0.034331,
     "end_time": "2023-03-10T16:03:22.945015",
     "exception": false,
     "start_time": "2023-03-10T16:03:22.910684",
     "status": "completed"
    },
    "tags": []
   },
   "outputs": [
    {
     "data": {
      "text/html": [
       "<div>\n",
       "<style scoped>\n",
       "    .dataframe tbody tr th:only-of-type {\n",
       "        vertical-align: middle;\n",
       "    }\n",
       "\n",
       "    .dataframe tbody tr th {\n",
       "        vertical-align: top;\n",
       "    }\n",
       "\n",
       "    .dataframe thead th {\n",
       "        text-align: right;\n",
       "    }\n",
       "</style>\n",
       "<table border=\"1\" class=\"dataframe\">\n",
       "  <thead>\n",
       "    <tr style=\"text-align: right;\">\n",
       "      <th></th>\n",
       "      <th>NAME</th>\n",
       "      <th>AGE</th>\n",
       "      <th>NOTE</th>\n",
       "      <th>YENI_FUTURE</th>\n",
       "      <th>BOOL</th>\n",
       "      <th>ORTALAMA</th>\n",
       "      <th>Büyük Yaş</th>\n",
       "      <th>apply_metodu</th>\n",
       "    </tr>\n",
       "  </thead>\n",
       "  <tbody>\n",
       "    <tr>\n",
       "      <th>0</th>\n",
       "      <td>Yusuf</td>\n",
       "      <td>22.0</td>\n",
       "      <td>333</td>\n",
       "      <td>1</td>\n",
       "      <td>False</td>\n",
       "      <td>Ortalamanın Altında NOT</td>\n",
       "      <td>44.0</td>\n",
       "      <td>44.0</td>\n",
       "    </tr>\n",
       "    <tr>\n",
       "      <th>1</th>\n",
       "      <td>Recep</td>\n",
       "      <td>51.0</td>\n",
       "      <td>338</td>\n",
       "      <td>2</td>\n",
       "      <td>True</td>\n",
       "      <td>Ortalamanın Altında NOT</td>\n",
       "      <td>102.0</td>\n",
       "      <td>102.0</td>\n",
       "    </tr>\n",
       "    <tr>\n",
       "      <th>2</th>\n",
       "      <td>Ayberk</td>\n",
       "      <td>25.0</td>\n",
       "      <td>342</td>\n",
       "      <td>3</td>\n",
       "      <td>False</td>\n",
       "      <td>Ortalamanın Altında NOT</td>\n",
       "      <td>50.0</td>\n",
       "      <td>50.0</td>\n",
       "    </tr>\n",
       "    <tr>\n",
       "      <th>3</th>\n",
       "      <td>Ayşegül</td>\n",
       "      <td>42.0</td>\n",
       "      <td>87654</td>\n",
       "      <td>4</td>\n",
       "      <td>True</td>\n",
       "      <td>Ortalamanın Üstünde NOT</td>\n",
       "      <td>84.0</td>\n",
       "      <td>84.0</td>\n",
       "    </tr>\n",
       "  </tbody>\n",
       "</table>\n",
       "</div>"
      ],
      "text/plain": [
       "      NAME   AGE   NOTE  YENI_FUTURE   BOOL                 ORTALAMA  \\\n",
       "0    Yusuf  22.0    333            1  False  Ortalamanın Altında NOT   \n",
       "1    Recep  51.0    338            2   True  Ortalamanın Altında NOT   \n",
       "2   Ayberk  25.0    342            3  False  Ortalamanın Altında NOT   \n",
       "3  Ayşegül  42.0  87654            4   True  Ortalamanın Üstünde NOT   \n",
       "\n",
       "   Büyük Yaş  apply_metodu  \n",
       "0       44.0          44.0  \n",
       "1      102.0         102.0  \n",
       "2       50.0          50.0  \n",
       "3       84.0          84.0  "
      ]
     },
     "execution_count": 29,
     "metadata": {},
     "output_type": "execute_result"
    }
   ],
   "source": [
    "def mlt(yas):\n",
    "    return yas*2\n",
    "dataframe1[\"apply_metodu\"] = dataframe1.AGE.apply(mlt)\n",
    "dataframe1"
   ]
  }
 ],
 "metadata": {
  "kernelspec": {
   "display_name": "Python 3",
   "language": "python",
   "name": "python3"
  },
  "language_info": {
   "codemirror_mode": {
    "name": "ipython",
    "version": 3
   },
   "file_extension": ".py",
   "mimetype": "text/x-python",
   "name": "python",
   "nbconvert_exporter": "python",
   "pygments_lexer": "ipython3",
   "version": "3.7.12"
  },
  "papermill": {
   "default_parameters": {},
   "duration": 14.31793,
   "end_time": "2023-03-10T16:03:23.679469",
   "environment_variables": {},
   "exception": null,
   "input_path": "__notebook__.ipynb",
   "output_path": "__notebook__.ipynb",
   "parameters": {},
   "start_time": "2023-03-10T16:03:09.361539",
   "version": "2.4.0"
  }
 },
 "nbformat": 4,
 "nbformat_minor": 5
}
