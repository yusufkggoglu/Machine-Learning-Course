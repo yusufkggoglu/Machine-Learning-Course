{
 "cells": [
  {
   "cell_type": "code",
   "execution_count": 1,
   "id": "b10d26e1",
   "metadata": {
    "execution": {
     "iopub.execute_input": "2023-03-10T15:41:16.143561Z",
     "iopub.status.busy": "2023-03-10T15:41:16.143023Z",
     "iopub.status.idle": "2023-03-10T15:41:16.156616Z",
     "shell.execute_reply": "2023-03-10T15:41:16.155693Z"
    },
    "papermill": {
     "duration": 0.0256,
     "end_time": "2023-03-10T15:41:16.159015",
     "exception": false,
     "start_time": "2023-03-10T15:41:16.133415",
     "status": "completed"
    },
    "tags": []
   },
   "outputs": [],
   "source": [
    "import numpy as np\n",
    "import matplotlib.pyplot as plt \n",
    "from mpl_toolkits.mplot3d import Axes3D"
   ]
  },
  {
   "cell_type": "code",
   "execution_count": 2,
   "id": "0c791c4e",
   "metadata": {
    "execution": {
     "iopub.execute_input": "2023-03-10T15:41:16.175271Z",
     "iopub.status.busy": "2023-03-10T15:41:16.174053Z",
     "iopub.status.idle": "2023-03-10T15:41:16.184264Z",
     "shell.execute_reply": "2023-03-10T15:41:16.182771Z"
    },
    "papermill": {
     "duration": 0.021188,
     "end_time": "2023-03-10T15:41:16.187015",
     "exception": false,
     "start_time": "2023-03-10T15:41:16.165827",
     "status": "completed"
    },
    "tags": []
   },
   "outputs": [
    {
     "name": "stdout",
     "output_type": "stream",
     "text": [
      "[15 30 45]\n"
     ]
    }
   ],
   "source": [
    "array = np.array([15,30,45]) \n",
    "print(array)"
   ]
  },
  {
   "cell_type": "code",
   "execution_count": 3,
   "id": "83604de2",
   "metadata": {
    "execution": {
     "iopub.execute_input": "2023-03-10T15:41:16.202374Z",
     "iopub.status.busy": "2023-03-10T15:41:16.201981Z",
     "iopub.status.idle": "2023-03-10T15:41:16.208586Z",
     "shell.execute_reply": "2023-03-10T15:41:16.207198Z"
    },
    "papermill": {
     "duration": 0.017371,
     "end_time": "2023-03-10T15:41:16.210998",
     "exception": false,
     "start_time": "2023-03-10T15:41:16.193627",
     "status": "completed"
    },
    "tags": []
   },
   "outputs": [
    {
     "name": "stdout",
     "output_type": "stream",
     "text": [
      "(15,)\n"
     ]
    }
   ],
   "source": [
    "array1= np.array([15,30,35,40,50,60,70,80,90,100,110,120,130,140,150])\n",
    "print(array1.shape)"
   ]
  },
  {
   "cell_type": "code",
   "execution_count": 4,
   "id": "2699bf19",
   "metadata": {
    "execution": {
     "iopub.execute_input": "2023-03-10T15:41:16.226149Z",
     "iopub.status.busy": "2023-03-10T15:41:16.225476Z",
     "iopub.status.idle": "2023-03-10T15:41:16.231964Z",
     "shell.execute_reply": "2023-03-10T15:41:16.230373Z"
    },
    "papermill": {
     "duration": 0.0185,
     "end_time": "2023-03-10T15:41:16.236015",
     "exception": false,
     "start_time": "2023-03-10T15:41:16.217515",
     "status": "completed"
    },
    "tags": []
   },
   "outputs": [
    {
     "name": "stdout",
     "output_type": "stream",
     "text": [
      "[[ 15  30  35]\n",
      " [ 40  50  60]\n",
      " [ 70  80  90]\n",
      " [100 110 120]\n",
      " [130 140 150]]\n"
     ]
    }
   ],
   "source": [
    "arrayreshape = array1.reshape(5,3) \n",
    "print(arrayreshape)"
   ]
  },
  {
   "cell_type": "code",
   "execution_count": 5,
   "id": "fd88f63a",
   "metadata": {
    "execution": {
     "iopub.execute_input": "2023-03-10T15:41:16.251500Z",
     "iopub.status.busy": "2023-03-10T15:41:16.251119Z",
     "iopub.status.idle": "2023-03-10T15:41:16.258269Z",
     "shell.execute_reply": "2023-03-10T15:41:16.256850Z"
    },
    "papermill": {
     "duration": 0.019077,
     "end_time": "2023-03-10T15:41:16.262061",
     "exception": false,
     "start_time": "2023-03-10T15:41:16.242984",
     "status": "completed"
    },
    "tags": []
   },
   "outputs": [
    {
     "name": "stdout",
     "output_type": "stream",
     "text": [
      "shape:  (5, 3)\n",
      "dimension:  2\n",
      "data type:  int64\n",
      "size:  15\n",
      "type <class 'numpy.ndarray'>\n"
     ]
    }
   ],
   "source": [
    "print(\"shape: \",arrayreshape.shape) \n",
    "print(\"dimension: \",arrayreshape.ndim) \n",
    "print(\"data type: \",arrayreshape.dtype.name) \n",
    "print(\"size: \",arrayreshape.size) \n",
    "print(\"type\",type(arrayreshape)) "
   ]
  },
  {
   "cell_type": "code",
   "execution_count": 6,
   "id": "8fbc9e81",
   "metadata": {
    "execution": {
     "iopub.execute_input": "2023-03-10T15:41:16.279434Z",
     "iopub.status.busy": "2023-03-10T15:41:16.279045Z",
     "iopub.status.idle": "2023-03-10T15:41:16.285025Z",
     "shell.execute_reply": "2023-03-10T15:41:16.283895Z"
    },
    "papermill": {
     "duration": 0.018485,
     "end_time": "2023-03-10T15:41:16.288518",
     "exception": false,
     "start_time": "2023-03-10T15:41:16.270033",
     "status": "completed"
    },
    "tags": []
   },
   "outputs": [
    {
     "name": "stdout",
     "output_type": "stream",
     "text": [
      "[[ 1  2  3  4]\n",
      " [ 5  6  7  8]\n",
      " [ 9 10 11 12]]\n"
     ]
    }
   ],
   "source": [
    "array2= np.array([[1,2,3,4],[5,6,7,8],[9,10,11,12]]) \n",
    "print(array2)"
   ]
  },
  {
   "cell_type": "code",
   "execution_count": 7,
   "id": "eae7a078",
   "metadata": {
    "execution": {
     "iopub.execute_input": "2023-03-10T15:41:16.305087Z",
     "iopub.status.busy": "2023-03-10T15:41:16.304657Z",
     "iopub.status.idle": "2023-03-10T15:41:16.310827Z",
     "shell.execute_reply": "2023-03-10T15:41:16.309591Z"
    },
    "papermill": {
     "duration": 0.017266,
     "end_time": "2023-03-10T15:41:16.313628",
     "exception": false,
     "start_time": "2023-03-10T15:41:16.296362",
     "status": "completed"
    },
    "tags": []
   },
   "outputs": [
    {
     "name": "stdout",
     "output_type": "stream",
     "text": [
      "[[0. 0. 5. 0. 0.]\n",
      " [0. 0. 0. 0. 0.]\n",
      " [0. 0. 0. 0. 0.]]\n"
     ]
    }
   ],
   "source": [
    "zeros= np.zeros((3,5))\n",
    "zeros[0,2]=5\n",
    "\n",
    "print(zeros)"
   ]
  },
  {
   "cell_type": "code",
   "execution_count": 8,
   "id": "fd60d300",
   "metadata": {
    "execution": {
     "iopub.execute_input": "2023-03-10T15:41:16.329205Z",
     "iopub.status.busy": "2023-03-10T15:41:16.328786Z",
     "iopub.status.idle": "2023-03-10T15:41:16.336061Z",
     "shell.execute_reply": "2023-03-10T15:41:16.335229Z"
    },
    "papermill": {
     "duration": 0.017763,
     "end_time": "2023-03-10T15:41:16.338221",
     "exception": false,
     "start_time": "2023-03-10T15:41:16.320458",
     "status": "completed"
    },
    "tags": []
   },
   "outputs": [
    {
     "data": {
      "text/plain": [
       "array([[1., 1., 1., 1.],\n",
       "       [1., 1., 1., 1.],\n",
       "       [1., 1., 1., 1.]])"
      ]
     },
     "execution_count": 8,
     "metadata": {},
     "output_type": "execute_result"
    }
   ],
   "source": [
    "np.ones((3,4))"
   ]
  },
  {
   "cell_type": "code",
   "execution_count": 9,
   "id": "5d2ee65d",
   "metadata": {
    "execution": {
     "iopub.execute_input": "2023-03-10T15:41:16.354061Z",
     "iopub.status.busy": "2023-03-10T15:41:16.353241Z",
     "iopub.status.idle": "2023-03-10T15:41:16.360734Z",
     "shell.execute_reply": "2023-03-10T15:41:16.359626Z"
    },
    "papermill": {
     "duration": 0.018158,
     "end_time": "2023-03-10T15:41:16.363300",
     "exception": false,
     "start_time": "2023-03-10T15:41:16.345142",
     "status": "completed"
    },
    "tags": []
   },
   "outputs": [
    {
     "data": {
      "text/plain": [
       "array([[0., 0., 5., 0., 0.],\n",
       "       [0., 0., 0., 0., 0.],\n",
       "       [0., 0., 0., 0., 0.]])"
      ]
     },
     "execution_count": 9,
     "metadata": {},
     "output_type": "execute_result"
    }
   ],
   "source": [
    "np.empty((3,5))"
   ]
  },
  {
   "cell_type": "code",
   "execution_count": 10,
   "id": "fde723b1",
   "metadata": {
    "execution": {
     "iopub.execute_input": "2023-03-10T15:41:16.380380Z",
     "iopub.status.busy": "2023-03-10T15:41:16.379983Z",
     "iopub.status.idle": "2023-03-10T15:41:16.388035Z",
     "shell.execute_reply": "2023-03-10T15:41:16.386745Z"
    },
    "papermill": {
     "duration": 0.020145,
     "end_time": "2023-03-10T15:41:16.390468",
     "exception": false,
     "start_time": "2023-03-10T15:41:16.370323",
     "status": "completed"
    },
    "tags": []
   },
   "outputs": [
    {
     "data": {
      "text/plain": [
       "array([10, 20, 30, 40, 50])"
      ]
     },
     "execution_count": 10,
     "metadata": {},
     "output_type": "execute_result"
    }
   ],
   "source": [
    "np.arange(10,60,10)"
   ]
  },
  {
   "cell_type": "code",
   "execution_count": 11,
   "id": "054a7302",
   "metadata": {
    "execution": {
     "iopub.execute_input": "2023-03-10T15:41:16.406717Z",
     "iopub.status.busy": "2023-03-10T15:41:16.406308Z",
     "iopub.status.idle": "2023-03-10T15:41:16.413489Z",
     "shell.execute_reply": "2023-03-10T15:41:16.412231Z"
    },
    "papermill": {
     "duration": 0.018894,
     "end_time": "2023-03-10T15:41:16.416601",
     "exception": false,
     "start_time": "2023-03-10T15:41:16.397707",
     "status": "completed"
    },
    "tags": []
   },
   "outputs": [
    {
     "name": "stdout",
     "output_type": "stream",
     "text": [
      "[ 0.          0.20408163  0.40816327  0.6122449   0.81632653  1.02040816\n",
      "  1.2244898   1.42857143  1.63265306  1.83673469  2.04081633  2.24489796\n",
      "  2.44897959  2.65306122  2.85714286  3.06122449  3.26530612  3.46938776\n",
      "  3.67346939  3.87755102  4.08163265  4.28571429  4.48979592  4.69387755\n",
      "  4.89795918  5.10204082  5.30612245  5.51020408  5.71428571  5.91836735\n",
      "  6.12244898  6.32653061  6.53061224  6.73469388  6.93877551  7.14285714\n",
      "  7.34693878  7.55102041  7.75510204  7.95918367  8.16326531  8.36734694\n",
      "  8.57142857  8.7755102   8.97959184  9.18367347  9.3877551   9.59183673\n",
      "  9.79591837 10.        ]\n"
     ]
    }
   ],
   "source": [
    "x= np.linspace(0,10,50)\n",
    "print(x)"
   ]
  },
  {
   "cell_type": "code",
   "execution_count": 12,
   "id": "ee81cc13",
   "metadata": {
    "execution": {
     "iopub.execute_input": "2023-03-10T15:41:16.434682Z",
     "iopub.status.busy": "2023-03-10T15:41:16.434301Z",
     "iopub.status.idle": "2023-03-10T15:41:16.441390Z",
     "shell.execute_reply": "2023-03-10T15:41:16.440085Z"
    },
    "papermill": {
     "duration": 0.018964,
     "end_time": "2023-03-10T15:41:16.444158",
     "exception": false,
     "start_time": "2023-03-10T15:41:16.425194",
     "status": "completed"
    },
    "tags": []
   },
   "outputs": [
    {
     "name": "stdout",
     "output_type": "stream",
     "text": [
      "[50 70 90]\n",
      "[-30 -30 -30]\n",
      "[100 400 900]\n"
     ]
    }
   ],
   "source": [
    "x= np.array([10,20,30])\n",
    "y= np.array([40,50,60]) \n",
    "\n",
    "print(x+y) \n",
    "print(x-y) \n",
    "print(x**2)"
   ]
  },
  {
   "cell_type": "code",
   "execution_count": 13,
   "id": "7446a05b",
   "metadata": {
    "execution": {
     "iopub.execute_input": "2023-03-10T15:41:16.460850Z",
     "iopub.status.busy": "2023-03-10T15:41:16.460419Z",
     "iopub.status.idle": "2023-03-10T15:41:16.468472Z",
     "shell.execute_reply": "2023-03-10T15:41:16.467179Z"
    },
    "papermill": {
     "duration": 0.019366,
     "end_time": "2023-03-10T15:41:16.470899",
     "exception": false,
     "start_time": "2023-03-10T15:41:16.451533",
     "status": "completed"
    },
    "tags": []
   },
   "outputs": [
    {
     "data": {
      "text/plain": [
       "array([1000, 2000, 3000, 4000, 5000, 6000, 7000])"
      ]
     },
     "execution_count": 13,
     "metadata": {},
     "output_type": "execute_result"
    }
   ],
   "source": [
    "x= np.array([1000,2000,3000,4000,5000,6000,7000])\n",
    "x"
   ]
  },
  {
   "cell_type": "code",
   "execution_count": 14,
   "id": "09910b24",
   "metadata": {
    "execution": {
     "iopub.execute_input": "2023-03-10T15:41:16.488492Z",
     "iopub.status.busy": "2023-03-10T15:41:16.487542Z",
     "iopub.status.idle": "2023-03-10T15:41:16.494748Z",
     "shell.execute_reply": "2023-03-10T15:41:16.493133Z"
    },
    "papermill": {
     "duration": 0.018842,
     "end_time": "2023-03-10T15:41:16.497221",
     "exception": false,
     "start_time": "2023-03-10T15:41:16.478379",
     "status": "completed"
    },
    "tags": []
   },
   "outputs": [
    {
     "name": "stdout",
     "output_type": "stream",
     "text": [
      "[10, 20, 30, 40]\n",
      "[50 60 70 80]\n"
     ]
    }
   ],
   "source": [
    "liste = [10,20,30,40]\n",
    "\n",
    "array = np.array([50,60,70,80])\n",
    "print(liste)\n",
    "print(array)"
   ]
  },
  {
   "cell_type": "code",
   "execution_count": 15,
   "id": "2ea89020",
   "metadata": {
    "execution": {
     "iopub.execute_input": "2023-03-10T15:41:16.514739Z",
     "iopub.status.busy": "2023-03-10T15:41:16.513605Z",
     "iopub.status.idle": "2023-03-10T15:41:16.520231Z",
     "shell.execute_reply": "2023-03-10T15:41:16.518872Z"
    },
    "papermill": {
     "duration": 0.017903,
     "end_time": "2023-03-10T15:41:16.522647",
     "exception": false,
     "start_time": "2023-03-10T15:41:16.504744",
     "status": "completed"
    },
    "tags": []
   },
   "outputs": [
    {
     "name": "stdout",
     "output_type": "stream",
     "text": [
      "[10 20 30 40]\n"
     ]
    }
   ],
   "source": [
    "array = np.array(liste)\n",
    "print(array)"
   ]
  },
  {
   "cell_type": "code",
   "execution_count": 16,
   "id": "a89e2a76",
   "metadata": {
    "execution": {
     "iopub.execute_input": "2023-03-10T15:41:16.539836Z",
     "iopub.status.busy": "2023-03-10T15:41:16.539080Z",
     "iopub.status.idle": "2023-03-10T15:41:16.546066Z",
     "shell.execute_reply": "2023-03-10T15:41:16.544214Z"
    },
    "papermill": {
     "duration": 0.018556,
     "end_time": "2023-03-10T15:41:16.548718",
     "exception": false,
     "start_time": "2023-03-10T15:41:16.530162",
     "status": "completed"
    },
    "tags": []
   },
   "outputs": [
    {
     "name": "stdout",
     "output_type": "stream",
     "text": [
      "[   7 2000 3000 4000 5000 6000 7000] [   7 2000 3000 4000 5000 6000 7000] [   7 2000 3000 4000 5000 6000 7000]\n"
     ]
    }
   ],
   "source": [
    "y=x\n",
    "z=x\n",
    "y[0]=7 \n",
    "\n",
    "print(x,y,z)"
   ]
  },
  {
   "cell_type": "code",
   "execution_count": 17,
   "id": "e6cad87e",
   "metadata": {
    "execution": {
     "iopub.execute_input": "2023-03-10T15:41:16.565850Z",
     "iopub.status.busy": "2023-03-10T15:41:16.565095Z",
     "iopub.status.idle": "2023-03-10T15:41:16.574313Z",
     "shell.execute_reply": "2023-03-10T15:41:16.572766Z"
    },
    "papermill": {
     "duration": 0.021555,
     "end_time": "2023-03-10T15:41:16.577726",
     "exception": false,
     "start_time": "2023-03-10T15:41:16.556171",
     "status": "completed"
    },
    "tags": []
   },
   "outputs": [
    {
     "name": "stdout",
     "output_type": "stream",
     "text": [
      "[1 2 3]\n"
     ]
    },
    {
     "data": {
      "text/plain": [
       "array([1, 2, 3])"
      ]
     },
     "execution_count": 17,
     "metadata": {},
     "output_type": "execute_result"
    }
   ],
   "source": [
    "a = np.array([1,2,3])\n",
    "print(a)\n",
    "\n",
    "d = a.copy()\n",
    "d"
   ]
  },
  {
   "cell_type": "code",
   "execution_count": 18,
   "id": "f0bf2101",
   "metadata": {
    "execution": {
     "iopub.execute_input": "2023-03-10T15:41:16.595840Z",
     "iopub.status.busy": "2023-03-10T15:41:16.595405Z",
     "iopub.status.idle": "2023-03-10T15:41:16.601482Z",
     "shell.execute_reply": "2023-03-10T15:41:16.600313Z"
    },
    "papermill": {
     "duration": 0.018351,
     "end_time": "2023-03-10T15:41:16.604094",
     "exception": false,
     "start_time": "2023-03-10T15:41:16.585743",
     "status": "completed"
    },
    "tags": []
   },
   "outputs": [
    {
     "name": "stdout",
     "output_type": "stream",
     "text": [
      "[1000 2000 3000 4000 5000 6000 7000]\n"
     ]
    }
   ],
   "source": [
    "a= np.array([1000,2000,3000,4000,5000,6000,7000]) \n",
    "print(a)"
   ]
  },
  {
   "cell_type": "code",
   "execution_count": 19,
   "id": "0db33579",
   "metadata": {
    "execution": {
     "iopub.execute_input": "2023-03-10T15:41:16.621314Z",
     "iopub.status.busy": "2023-03-10T15:41:16.620934Z",
     "iopub.status.idle": "2023-03-10T15:41:16.626865Z",
     "shell.execute_reply": "2023-03-10T15:41:16.625580Z"
    },
    "papermill": {
     "duration": 0.01718,
     "end_time": "2023-03-10T15:41:16.629144",
     "exception": false,
     "start_time": "2023-03-10T15:41:16.611964",
     "status": "completed"
    },
    "tags": []
   },
   "outputs": [
    {
     "name": "stdout",
     "output_type": "stream",
     "text": [
      "4000\n"
     ]
    }
   ],
   "source": [
    "print(a[3])"
   ]
  },
  {
   "cell_type": "code",
   "execution_count": 20,
   "id": "a6ceb471",
   "metadata": {
    "execution": {
     "iopub.execute_input": "2023-03-10T15:41:16.646570Z",
     "iopub.status.busy": "2023-03-10T15:41:16.646158Z",
     "iopub.status.idle": "2023-03-10T15:41:16.652027Z",
     "shell.execute_reply": "2023-03-10T15:41:16.650854Z"
    },
    "papermill": {
     "duration": 0.018463,
     "end_time": "2023-03-10T15:41:16.655403",
     "exception": false,
     "start_time": "2023-03-10T15:41:16.636940",
     "status": "completed"
    },
    "tags": []
   },
   "outputs": [
    {
     "name": "stdout",
     "output_type": "stream",
     "text": [
      "[4000 5000]\n"
     ]
    }
   ],
   "source": [
    "print(a[3:5])"
   ]
  },
  {
   "cell_type": "code",
   "execution_count": 21,
   "id": "680f4d48",
   "metadata": {
    "execution": {
     "iopub.execute_input": "2023-03-10T15:41:16.673924Z",
     "iopub.status.busy": "2023-03-10T15:41:16.673515Z",
     "iopub.status.idle": "2023-03-10T15:41:16.679355Z",
     "shell.execute_reply": "2023-03-10T15:41:16.678238Z"
    },
    "papermill": {
     "duration": 0.018363,
     "end_time": "2023-03-10T15:41:16.682432",
     "exception": false,
     "start_time": "2023-03-10T15:41:16.664069",
     "status": "completed"
    },
    "tags": []
   },
   "outputs": [
    {
     "name": "stdout",
     "output_type": "stream",
     "text": [
      "[7000 6000 5000 4000 3000 2000 1000]\n"
     ]
    }
   ],
   "source": [
    "reverse_array = a[::-1] \n",
    "print(reverse_array)"
   ]
  },
  {
   "cell_type": "code",
   "execution_count": 22,
   "id": "c00d1501",
   "metadata": {
    "execution": {
     "iopub.execute_input": "2023-03-10T15:41:16.702180Z",
     "iopub.status.busy": "2023-03-10T15:41:16.701748Z",
     "iopub.status.idle": "2023-03-10T15:41:16.708526Z",
     "shell.execute_reply": "2023-03-10T15:41:16.707227Z"
    },
    "papermill": {
     "duration": 0.019732,
     "end_time": "2023-03-10T15:41:16.711370",
     "exception": false,
     "start_time": "2023-03-10T15:41:16.691638",
     "status": "completed"
    },
    "tags": []
   },
   "outputs": [
    {
     "name": "stdout",
     "output_type": "stream",
     "text": [
      "[[ 1  2  3  4  5]\n",
      " [ 6  7  8  9 10]]\n"
     ]
    }
   ],
   "source": [
    "k = np.array([[1,2,3,4,5],[6,7,8,9,10]]) \n",
    "print(k)"
   ]
  },
  {
   "cell_type": "code",
   "execution_count": 23,
   "id": "9ca537f5",
   "metadata": {
    "execution": {
     "iopub.execute_input": "2023-03-10T15:41:16.729773Z",
     "iopub.status.busy": "2023-03-10T15:41:16.729026Z",
     "iopub.status.idle": "2023-03-10T15:41:16.735018Z",
     "shell.execute_reply": "2023-03-10T15:41:16.733750Z"
    },
    "papermill": {
     "duration": 0.018983,
     "end_time": "2023-03-10T15:41:16.738607",
     "exception": false,
     "start_time": "2023-03-10T15:41:16.719624",
     "status": "completed"
    },
    "tags": []
   },
   "outputs": [
    {
     "name": "stdout",
     "output_type": "stream",
     "text": [
      "[10 20 30 40]\n"
     ]
    }
   ],
   "source": [
    "a = array.ravel() \n",
    "print(a)"
   ]
  },
  {
   "cell_type": "code",
   "execution_count": 24,
   "id": "4f6160c4",
   "metadata": {
    "execution": {
     "iopub.execute_input": "2023-03-10T15:41:16.758348Z",
     "iopub.status.busy": "2023-03-10T15:41:16.757950Z",
     "iopub.status.idle": "2023-03-10T15:41:16.763707Z",
     "shell.execute_reply": "2023-03-10T15:41:16.762751Z"
    },
    "papermill": {
     "duration": 0.018453,
     "end_time": "2023-03-10T15:41:16.766605",
     "exception": false,
     "start_time": "2023-03-10T15:41:16.748152",
     "status": "completed"
    },
    "tags": []
   },
   "outputs": [
    {
     "name": "stdout",
     "output_type": "stream",
     "text": [
      "[[ 1  5  9]\n",
      " [ 2  6 10]\n",
      " [ 3  7 11]\n",
      " [ 4  8 12]]\n"
     ]
    }
   ],
   "source": [
    "array_transpose = array2.T\n",
    "print(array_transpose)"
   ]
  },
  {
   "cell_type": "code",
   "execution_count": 25,
   "id": "6921f94a",
   "metadata": {
    "execution": {
     "iopub.execute_input": "2023-03-10T15:41:16.785270Z",
     "iopub.status.busy": "2023-03-10T15:41:16.784608Z",
     "iopub.status.idle": "2023-03-10T15:41:16.791013Z",
     "shell.execute_reply": "2023-03-10T15:41:16.790098Z"
    },
    "papermill": {
     "duration": 0.018694,
     "end_time": "2023-03-10T15:41:16.793682",
     "exception": false,
     "start_time": "2023-03-10T15:41:16.774988",
     "status": "completed"
    },
    "tags": []
   },
   "outputs": [
    {
     "name": "stdout",
     "output_type": "stream",
     "text": [
      "[[10 20]\n",
      " [30 40]\n",
      " [50 60]]\n"
     ]
    }
   ],
   "source": [
    "array5 = np.array([[10,20],[30,40],[50,60]])\n",
    "print(array5)"
   ]
  },
  {
   "cell_type": "code",
   "execution_count": 26,
   "id": "26353bbc",
   "metadata": {
    "execution": {
     "iopub.execute_input": "2023-03-10T15:41:16.812256Z",
     "iopub.status.busy": "2023-03-10T15:41:16.811790Z",
     "iopub.status.idle": "2023-03-10T15:41:16.818454Z",
     "shell.execute_reply": "2023-03-10T15:41:16.817019Z"
    },
    "papermill": {
     "duration": 0.019154,
     "end_time": "2023-03-10T15:41:16.821222",
     "exception": false,
     "start_time": "2023-03-10T15:41:16.802068",
     "status": "completed"
    },
    "tags": []
   },
   "outputs": [
    {
     "name": "stdout",
     "output_type": "stream",
     "text": [
      "[[10 20 30 40]\n",
      " [50 60  0  0]]\n"
     ]
    }
   ],
   "source": [
    "array5.resize((2,4)) \n",
    "print(array5)"
   ]
  }
 ],
 "metadata": {
  "kernelspec": {
   "display_name": "Python 3",
   "language": "python",
   "name": "python3"
  },
  "language_info": {
   "codemirror_mode": {
    "name": "ipython",
    "version": 3
   },
   "file_extension": ".py",
   "mimetype": "text/x-python",
   "name": "python",
   "nbconvert_exporter": "python",
   "pygments_lexer": "ipython3",
   "version": "3.7.12"
  },
  "papermill": {
   "default_parameters": {},
   "duration": 11.941741,
   "end_time": "2023-03-10T15:41:17.453704",
   "environment_variables": {},
   "exception": null,
   "input_path": "__notebook__.ipynb",
   "output_path": "__notebook__.ipynb",
   "parameters": {},
   "start_time": "2023-03-10T15:41:05.511963",
   "version": "2.4.0"
  }
 },
 "nbformat": 4,
 "nbformat_minor": 5
}
