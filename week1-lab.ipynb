{
 "cells": [
  {
   "cell_type": "code",
   "execution_count": 1,
   "id": "d5a4c03c",
   "metadata": {
    "execution": {
     "iopub.execute_input": "2023-03-02T19:30:46.141450Z",
     "iopub.status.busy": "2023-03-02T19:30:46.140999Z",
     "iopub.status.idle": "2023-03-02T19:30:46.151510Z",
     "shell.execute_reply": "2023-03-02T19:30:46.150268Z"
    },
    "papermill": {
     "duration": 0.020899,
     "end_time": "2023-03-02T19:30:46.154119",
     "exception": false,
     "start_time": "2023-03-02T19:30:46.133220",
     "status": "completed"
    },
    "tags": []
   },
   "outputs": [],
   "source": [
    "var1 = 50\n",
    "var2 = 41\n",
    "\n",
    "day = \"yusuf\"\n",
    "\n",
    "var3 = 10.5"
   ]
  },
  {
   "cell_type": "code",
   "execution_count": 2,
   "id": "17a37578",
   "metadata": {
    "execution": {
     "iopub.execute_input": "2023-03-02T19:30:46.165614Z",
     "iopub.status.busy": "2023-03-02T19:30:46.165169Z",
     "iopub.status.idle": "2023-03-02T19:30:46.173533Z",
     "shell.execute_reply": "2023-03-02T19:30:46.172361Z"
    },
    "papermill": {
     "duration": 0.016703,
     "end_time": "2023-03-02T19:30:46.175681",
     "exception": false,
     "start_time": "2023-03-02T19:30:46.158978",
     "status": "completed"
    },
    "tags": []
   },
   "outputs": [
    {
     "data": {
      "text/plain": [
       "list"
      ]
     },
     "execution_count": 2,
     "metadata": {},
     "output_type": "execute_result"
    }
   ],
   "source": [
    "list_int = [1,2,3,4,5]\n",
    "type(list_int)"
   ]
  },
  {
   "cell_type": "code",
   "execution_count": 3,
   "id": "b64af472",
   "metadata": {
    "execution": {
     "iopub.execute_input": "2023-03-02T19:30:46.187448Z",
     "iopub.status.busy": "2023-03-02T19:30:46.187000Z",
     "iopub.status.idle": "2023-03-02T19:30:46.193231Z",
     "shell.execute_reply": "2023-03-02T19:30:46.191649Z"
    },
    "papermill": {
     "duration": 0.015298,
     "end_time": "2023-03-02T19:30:46.195924",
     "exception": false,
     "start_time": "2023-03-02T19:30:46.180626",
     "status": "completed"
    },
    "tags": []
   },
   "outputs": [
    {
     "name": "stdout",
     "output_type": "stream",
     "text": [
      "5\n"
     ]
    }
   ],
   "source": [
    "value = list_int[4]\n",
    "print(value)"
   ]
  },
  {
   "cell_type": "code",
   "execution_count": 4,
   "id": "4fd2daf0",
   "metadata": {
    "execution": {
     "iopub.execute_input": "2023-03-02T19:30:46.208224Z",
     "iopub.status.busy": "2023-03-02T19:30:46.207739Z",
     "iopub.status.idle": "2023-03-02T19:30:46.215102Z",
     "shell.execute_reply": "2023-03-02T19:30:46.213892Z"
    },
    "papermill": {
     "duration": 0.01645,
     "end_time": "2023-03-02T19:30:46.217542",
     "exception": false,
     "start_time": "2023-03-02T19:30:46.201092",
     "status": "completed"
    },
    "tags": []
   },
   "outputs": [
    {
     "data": {
      "text/plain": [
       "5"
      ]
     },
     "execution_count": 4,
     "metadata": {},
     "output_type": "execute_result"
    }
   ],
   "source": [
    "value"
   ]
  },
  {
   "cell_type": "code",
   "execution_count": 5,
   "id": "472b1854",
   "metadata": {
    "execution": {
     "iopub.execute_input": "2023-03-02T19:30:46.230172Z",
     "iopub.status.busy": "2023-03-02T19:30:46.229635Z",
     "iopub.status.idle": "2023-03-02T19:30:46.237337Z",
     "shell.execute_reply": "2023-03-02T19:30:46.236081Z"
    },
    "papermill": {
     "duration": 0.016858,
     "end_time": "2023-03-02T19:30:46.239636",
     "exception": false,
     "start_time": "2023-03-02T19:30:46.222778",
     "status": "completed"
    },
    "tags": []
   },
   "outputs": [
    {
     "data": {
      "text/plain": [
       "5"
      ]
     },
     "execution_count": 5,
     "metadata": {},
     "output_type": "execute_result"
    }
   ],
   "source": [
    "list_int[-1]"
   ]
  },
  {
   "cell_type": "code",
   "execution_count": 6,
   "id": "ba8efbf5",
   "metadata": {
    "execution": {
     "iopub.execute_input": "2023-03-02T19:30:46.252950Z",
     "iopub.status.busy": "2023-03-02T19:30:46.251765Z",
     "iopub.status.idle": "2023-03-02T19:30:46.260493Z",
     "shell.execute_reply": "2023-03-02T19:30:46.259069Z"
    },
    "papermill": {
     "duration": 0.018064,
     "end_time": "2023-03-02T19:30:46.263049",
     "exception": false,
     "start_time": "2023-03-02T19:30:46.244985",
     "status": "completed"
    },
    "tags": []
   },
   "outputs": [
    {
     "data": {
      "text/plain": [
       "[1, 2, 3, 4]"
      ]
     },
     "execution_count": 6,
     "metadata": {},
     "output_type": "execute_result"
    }
   ],
   "source": [
    "list_int[0:4]"
   ]
  },
  {
   "cell_type": "code",
   "execution_count": 7,
   "id": "450bec84",
   "metadata": {
    "execution": {
     "iopub.execute_input": "2023-03-02T19:30:46.276153Z",
     "iopub.status.busy": "2023-03-02T19:30:46.275698Z",
     "iopub.status.idle": "2023-03-02T19:30:46.282657Z",
     "shell.execute_reply": "2023-03-02T19:30:46.281807Z"
    },
    "papermill": {
     "duration": 0.016136,
     "end_time": "2023-03-02T19:30:46.284720",
     "exception": false,
     "start_time": "2023-03-02T19:30:46.268584",
     "status": "completed"
    },
    "tags": []
   },
   "outputs": [
    {
     "data": {
      "text/plain": [
       "['__add__',\n",
       " '__class__',\n",
       " '__contains__',\n",
       " '__delattr__',\n",
       " '__delitem__',\n",
       " '__dir__',\n",
       " '__doc__',\n",
       " '__eq__',\n",
       " '__format__',\n",
       " '__ge__',\n",
       " '__getattribute__',\n",
       " '__getitem__',\n",
       " '__gt__',\n",
       " '__hash__',\n",
       " '__iadd__',\n",
       " '__imul__',\n",
       " '__init__',\n",
       " '__init_subclass__',\n",
       " '__iter__',\n",
       " '__le__',\n",
       " '__len__',\n",
       " '__lt__',\n",
       " '__mul__',\n",
       " '__ne__',\n",
       " '__new__',\n",
       " '__reduce__',\n",
       " '__reduce_ex__',\n",
       " '__repr__',\n",
       " '__reversed__',\n",
       " '__rmul__',\n",
       " '__setattr__',\n",
       " '__setitem__',\n",
       " '__sizeof__',\n",
       " '__str__',\n",
       " '__subclasshook__',\n",
       " 'append',\n",
       " 'clear',\n",
       " 'copy',\n",
       " 'count',\n",
       " 'extend',\n",
       " 'index',\n",
       " 'insert',\n",
       " 'pop',\n",
       " 'remove',\n",
       " 'reverse',\n",
       " 'sort']"
      ]
     },
     "execution_count": 7,
     "metadata": {},
     "output_type": "execute_result"
    }
   ],
   "source": [
    "dir(list_int)"
   ]
  },
  {
   "cell_type": "code",
   "execution_count": 8,
   "id": "1d5db799",
   "metadata": {
    "execution": {
     "iopub.execute_input": "2023-03-02T19:30:46.298207Z",
     "iopub.status.busy": "2023-03-02T19:30:46.297257Z",
     "iopub.status.idle": "2023-03-02T19:30:46.304076Z",
     "shell.execute_reply": "2023-03-02T19:30:46.302588Z"
    },
    "papermill": {
     "duration": 0.016566,
     "end_time": "2023-03-02T19:30:46.306894",
     "exception": false,
     "start_time": "2023-03-02T19:30:46.290328",
     "status": "completed"
    },
    "tags": []
   },
   "outputs": [
    {
     "name": "stdout",
     "output_type": "stream",
     "text": [
      "[1, 2, 3, 4, 5, 8]\n"
     ]
    }
   ],
   "source": [
    "list_int.append(8)\n",
    "print(list_int)"
   ]
  },
  {
   "cell_type": "code",
   "execution_count": 9,
   "id": "5fc3debe",
   "metadata": {
    "execution": {
     "iopub.execute_input": "2023-03-02T19:30:46.321139Z",
     "iopub.status.busy": "2023-03-02T19:30:46.320264Z",
     "iopub.status.idle": "2023-03-02T19:30:46.326930Z",
     "shell.execute_reply": "2023-03-02T19:30:46.325632Z"
    },
    "papermill": {
     "duration": 0.016728,
     "end_time": "2023-03-02T19:30:46.329670",
     "exception": false,
     "start_time": "2023-03-02T19:30:46.312942",
     "status": "completed"
    },
    "tags": []
   },
   "outputs": [
    {
     "name": "stdout",
     "output_type": "stream",
     "text": [
      "[1, 2, 3, 4, 5]\n"
     ]
    }
   ],
   "source": [
    "list_int.remove(8)\n",
    "print(list_int)"
   ]
  },
  {
   "cell_type": "code",
   "execution_count": 10,
   "id": "f2c6c8aa",
   "metadata": {
    "execution": {
     "iopub.execute_input": "2023-03-02T19:30:46.343844Z",
     "iopub.status.busy": "2023-03-02T19:30:46.342980Z",
     "iopub.status.idle": "2023-03-02T19:30:46.348819Z",
     "shell.execute_reply": "2023-03-02T19:30:46.347659Z"
    },
    "papermill": {
     "duration": 0.016698,
     "end_time": "2023-03-02T19:30:46.352362",
     "exception": false,
     "start_time": "2023-03-02T19:30:46.335664",
     "status": "completed"
    },
    "tags": []
   },
   "outputs": [
    {
     "name": "stdout",
     "output_type": "stream",
     "text": [
      "[5, 4, 3, 2, 1]\n"
     ]
    }
   ],
   "source": [
    "list_int.reverse()\n",
    "print(list_int)"
   ]
  },
  {
   "cell_type": "code",
   "execution_count": 11,
   "id": "3ebb2aa1",
   "metadata": {
    "execution": {
     "iopub.execute_input": "2023-03-02T19:30:46.367750Z",
     "iopub.status.busy": "2023-03-02T19:30:46.367052Z",
     "iopub.status.idle": "2023-03-02T19:30:46.373393Z",
     "shell.execute_reply": "2023-03-02T19:30:46.372200Z"
    },
    "papermill": {
     "duration": 0.016537,
     "end_time": "2023-03-02T19:30:46.375941",
     "exception": false,
     "start_time": "2023-03-02T19:30:46.359404",
     "status": "completed"
    },
    "tags": []
   },
   "outputs": [
    {
     "name": "stdout",
     "output_type": "stream",
     "text": [
      "[1, 2, 3, 4, 5]\n"
     ]
    }
   ],
   "source": [
    "list_int.sort()\n",
    "print(list_int)"
   ]
  },
  {
   "cell_type": "code",
   "execution_count": 12,
   "id": "6ef5442e",
   "metadata": {
    "execution": {
     "iopub.execute_input": "2023-03-02T19:30:46.390723Z",
     "iopub.status.busy": "2023-03-02T19:30:46.390299Z",
     "iopub.status.idle": "2023-03-02T19:30:46.395352Z",
     "shell.execute_reply": "2023-03-02T19:30:46.394554Z"
    },
    "papermill": {
     "duration": 0.015673,
     "end_time": "2023-03-02T19:30:46.397826",
     "exception": false,
     "start_time": "2023-03-02T19:30:46.382153",
     "status": "completed"
    },
    "tags": []
   },
   "outputs": [
    {
     "name": "stdout",
     "output_type": "stream",
     "text": [
      "1\n",
      "2\n",
      "3\n",
      "4\n",
      "5\n",
      "6\n"
     ]
    }
   ],
   "source": [
    "for each in range(1,7):\n",
    "    print(each)"
   ]
  },
  {
   "cell_type": "code",
   "execution_count": 13,
   "id": "1791e52f",
   "metadata": {
    "execution": {
     "iopub.execute_input": "2023-03-02T19:30:46.413409Z",
     "iopub.status.busy": "2023-03-02T19:30:46.412941Z",
     "iopub.status.idle": "2023-03-02T19:30:46.420696Z",
     "shell.execute_reply": "2023-03-02T19:30:46.419501Z"
    },
    "papermill": {
     "duration": 0.018823,
     "end_time": "2023-03-02T19:30:46.422915",
     "exception": false,
     "start_time": "2023-03-02T19:30:46.404092",
     "status": "completed"
    },
    "tags": []
   },
   "outputs": [
    {
     "data": {
      "text/plain": [
       "1"
      ]
     },
     "execution_count": 13,
     "metadata": {},
     "output_type": "execute_result"
    }
   ],
   "source": [
    "liste = [1,2,3,4,6,7,8,9]\n",
    "sum(liste)\n",
    "min(liste)"
   ]
  },
  {
   "cell_type": "code",
   "execution_count": 14,
   "id": "f05d24ad",
   "metadata": {
    "execution": {
     "iopub.execute_input": "2023-03-02T19:30:46.438098Z",
     "iopub.status.busy": "2023-03-02T19:30:46.437283Z",
     "iopub.status.idle": "2023-03-02T19:30:46.443156Z",
     "shell.execute_reply": "2023-03-02T19:30:46.442329Z"
    },
    "papermill": {
     "duration": 0.016139,
     "end_time": "2023-03-02T19:30:46.445634",
     "exception": false,
     "start_time": "2023-03-02T19:30:46.429495",
     "status": "completed"
    },
    "tags": []
   },
   "outputs": [
    {
     "name": "stdout",
     "output_type": "stream",
     "text": [
      "1\n"
     ]
    }
   ],
   "source": [
    "minimum = 1000\n",
    "for each in liste:\n",
    "    if(each<minimum):\n",
    "        minimum = each\n",
    "    else:\n",
    "        continue\n",
    "print(minimum) "
   ]
  },
  {
   "cell_type": "code",
   "execution_count": 15,
   "id": "f7948929",
   "metadata": {
    "execution": {
     "iopub.execute_input": "2023-03-02T19:30:46.460342Z",
     "iopub.status.busy": "2023-03-02T19:30:46.459937Z",
     "iopub.status.idle": "2023-03-02T19:30:46.466077Z",
     "shell.execute_reply": "2023-03-02T19:30:46.464534Z"
    },
    "papermill": {
     "duration": 0.017349,
     "end_time": "2023-03-02T19:30:46.469376",
     "exception": false,
     "start_time": "2023-03-02T19:30:46.452027",
     "status": "completed"
    },
    "tags": []
   },
   "outputs": [
    {
     "name": "stdout",
     "output_type": "stream",
     "text": [
      "0\n",
      "1\n",
      "2\n",
      "3\n",
      "4\n",
      "5\n"
     ]
    }
   ],
   "source": [
    "i = 0\n",
    "\n",
    "while (i < 6):\n",
    "    print(i)\n",
    "    i= i+1"
   ]
  },
  {
   "cell_type": "code",
   "execution_count": 16,
   "id": "53318b6d",
   "metadata": {
    "execution": {
     "iopub.execute_input": "2023-03-02T19:30:46.486231Z",
     "iopub.status.busy": "2023-03-02T19:30:46.485511Z",
     "iopub.status.idle": "2023-03-02T19:30:46.493919Z",
     "shell.execute_reply": "2023-03-02T19:30:46.492840Z"
    },
    "papermill": {
     "duration": 0.018778,
     "end_time": "2023-03-02T19:30:46.496183",
     "exception": false,
     "start_time": "2023-03-02T19:30:46.477405",
     "status": "completed"
    },
    "tags": []
   },
   "outputs": [
    {
     "data": {
      "text/plain": [
       "25.12"
      ]
     },
     "execution_count": 16,
     "metadata": {},
     "output_type": "execute_result"
    }
   ],
   "source": [
    "def cember_cevre(r,pi=3.14):\n",
    "    \n",
    "    \n",
    "    \"\"\"\n",
    "    Çember Çevre\n",
    "    \n",
    "    \"\"\"\n",
    "    output = 2*pi*r\n",
    "    \n",
    "    return output\n",
    "\n",
    "cember_cevre(4)"
   ]
  },
  {
   "cell_type": "code",
   "execution_count": 17,
   "id": "611bb425",
   "metadata": {
    "execution": {
     "iopub.execute_input": "2023-03-02T19:30:46.511836Z",
     "iopub.status.busy": "2023-03-02T19:30:46.511116Z",
     "iopub.status.idle": "2023-03-02T19:30:46.517591Z",
     "shell.execute_reply": "2023-03-02T19:30:46.516427Z"
    },
    "papermill": {
     "duration": 0.016876,
     "end_time": "2023-03-02T19:30:46.519935",
     "exception": false,
     "start_time": "2023-03-02T19:30:46.503059",
     "status": "completed"
    },
    "tags": []
   },
   "outputs": [
    {
     "name": "stdout",
     "output_type": "stream",
     "text": [
      "16\n"
     ]
    }
   ],
   "source": [
    "def hesapla(x):\n",
    "    output = x*x\n",
    "    return output\n",
    "\n",
    "hesapla(6)\n",
    "\n",
    "sonuc = lambda x: x*x\n",
    "print(sonuc(4))"
   ]
  },
  {
   "cell_type": "code",
   "execution_count": 18,
   "id": "25d5c3b2",
   "metadata": {
    "execution": {
     "iopub.execute_input": "2023-03-02T19:30:46.535879Z",
     "iopub.status.busy": "2023-03-02T19:30:46.534983Z",
     "iopub.status.idle": "2023-03-02T19:30:46.541379Z",
     "shell.execute_reply": "2023-03-02T19:30:46.540580Z"
    },
    "papermill": {
     "duration": 0.016926,
     "end_time": "2023-03-02T19:30:46.543580",
     "exception": false,
     "start_time": "2023-03-02T19:30:46.526654",
     "status": "completed"
    },
    "tags": []
   },
   "outputs": [
    {
     "data": {
      "text/plain": [
       "21"
      ]
     },
     "execution_count": 18,
     "metadata": {},
     "output_type": "execute_result"
    }
   ],
   "source": [
    "dictionary = {\"Yusuf\":21, \"Ayberk\": 35,\"Ahmet\":45}\n",
    "\n",
    "dictionary[\"Yusuf\"]"
   ]
  },
  {
   "cell_type": "code",
   "execution_count": 19,
   "id": "8dcb8538",
   "metadata": {
    "execution": {
     "iopub.execute_input": "2023-03-02T19:30:46.559945Z",
     "iopub.status.busy": "2023-03-02T19:30:46.558861Z",
     "iopub.status.idle": "2023-03-02T19:30:46.565193Z",
     "shell.execute_reply": "2023-03-02T19:30:46.564231Z"
    },
    "papermill": {
     "duration": 0.017054,
     "end_time": "2023-03-02T19:30:46.567543",
     "exception": false,
     "start_time": "2023-03-02T19:30:46.550489",
     "status": "completed"
    },
    "tags": []
   },
   "outputs": [
    {
     "data": {
      "text/plain": [
       "dict_keys(['Yusuf', 'Ayberk', 'Ahmet'])"
      ]
     },
     "execution_count": 19,
     "metadata": {},
     "output_type": "execute_result"
    }
   ],
   "source": [
    "dictionary.keys()"
   ]
  },
  {
   "cell_type": "code",
   "execution_count": 20,
   "id": "41cb9365",
   "metadata": {
    "execution": {
     "iopub.execute_input": "2023-03-02T19:30:46.584886Z",
     "iopub.status.busy": "2023-03-02T19:30:46.583835Z",
     "iopub.status.idle": "2023-03-02T19:30:46.591140Z",
     "shell.execute_reply": "2023-03-02T19:30:46.590043Z"
    },
    "papermill": {
     "duration": 0.018571,
     "end_time": "2023-03-02T19:30:46.593620",
     "exception": false,
     "start_time": "2023-03-02T19:30:46.575049",
     "status": "completed"
    },
    "tags": []
   },
   "outputs": [
    {
     "data": {
      "text/plain": [
       "dict_values([21, 35, 45])"
      ]
     },
     "execution_count": 20,
     "metadata": {},
     "output_type": "execute_result"
    }
   ],
   "source": [
    "dictionary.values()"
   ]
  },
  {
   "cell_type": "code",
   "execution_count": 21,
   "id": "fc889708",
   "metadata": {
    "execution": {
     "iopub.execute_input": "2023-03-02T19:30:46.610525Z",
     "iopub.status.busy": "2023-03-02T19:30:46.610069Z",
     "iopub.status.idle": "2023-03-02T19:30:46.617342Z",
     "shell.execute_reply": "2023-03-02T19:30:46.616104Z"
    },
    "papermill": {
     "duration": 0.018854,
     "end_time": "2023-03-02T19:30:46.619942",
     "exception": false,
     "start_time": "2023-03-02T19:30:46.601088",
     "status": "completed"
    },
    "tags": []
   },
   "outputs": [
    {
     "name": "stdout",
     "output_type": "stream",
     "text": [
      "{'Yusuf': 31, 'Ayberk': 35, 'Ahmet': 45}\n"
     ]
    }
   ],
   "source": [
    "def deneme():\n",
    "    dictionary = {\"Yusuf\":31, \"Ayberk\": 35,\"Ahmet\":45}\n",
    "    \n",
    "    return dictionary\n",
    "\n",
    "dic = deneme()\n",
    "print(dic)"
   ]
  },
  {
   "cell_type": "code",
   "execution_count": 22,
   "id": "f8923535",
   "metadata": {
    "execution": {
     "iopub.execute_input": "2023-03-02T19:30:46.637064Z",
     "iopub.status.busy": "2023-03-02T19:30:46.636603Z",
     "iopub.status.idle": "2023-03-02T19:30:46.642996Z",
     "shell.execute_reply": "2023-03-02T19:30:46.641812Z"
    },
    "papermill": {
     "duration": 0.018103,
     "end_time": "2023-03-02T19:30:46.645536",
     "exception": false,
     "start_time": "2023-03-02T19:30:46.627433",
     "status": "completed"
    },
    "tags": []
   },
   "outputs": [
    {
     "name": "stdout",
     "output_type": "stream",
     "text": [
      "evet\n"
     ]
    }
   ],
   "source": [
    "keys = dictionary.keys()\n",
    "\n",
    "if \"Yusuf\" in keys:\n",
    "    print(\"evet\")\n",
    "else:\n",
    "    print(\"hayır\")"
   ]
  }
 ],
 "metadata": {
  "kernelspec": {
   "display_name": "Python 3",
   "language": "python",
   "name": "python3"
  },
  "language_info": {
   "codemirror_mode": {
    "name": "ipython",
    "version": 3
   },
   "file_extension": ".py",
   "mimetype": "text/x-python",
   "name": "python",
   "nbconvert_exporter": "python",
   "pygments_lexer": "ipython3",
   "version": "3.7.12"
  },
  "papermill": {
   "default_parameters": {},
   "duration": 12.411507,
   "end_time": "2023-03-02T19:30:47.576227",
   "environment_variables": {},
   "exception": null,
   "input_path": "__notebook__.ipynb",
   "output_path": "__notebook__.ipynb",
   "parameters": {},
   "start_time": "2023-03-02T19:30:35.164720",
   "version": "2.4.0"
  }
 },
 "nbformat": 4,
 "nbformat_minor": 5
}
